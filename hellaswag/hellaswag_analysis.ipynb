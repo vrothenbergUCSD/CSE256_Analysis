{
 "cells": [
  {
   "cell_type": "code",
   "execution_count": 5,
   "metadata": {},
   "outputs": [
    {
     "name": "stderr",
     "output_type": "stream",
     "text": [
      "/Users/vince/miniforge3/envs/cse251u/lib/python3.11/site-packages/datasets/load.py:1486: FutureWarning: The repository for hellaswag contains custom code which must be executed to correctly load the dataset. You can inspect the repository content at https://hf.co/datasets/hellaswag\n",
      "You can avoid this message in future by passing the argument `trust_remote_code=True`.\n",
      "Passing `trust_remote_code=True` will be mandatory to load this dataset from the next major release of `datasets`.\n",
      "  warnings.warn(\n"
     ]
    },
    {
     "data": {
      "text/plain": [
       "DatasetDict({\n",
       "    train: Dataset({\n",
       "        features: ['ind', 'activity_label', 'ctx_a', 'ctx_b', 'ctx', 'endings', 'source_id', 'split', 'split_type', 'label'],\n",
       "        num_rows: 39905\n",
       "    })\n",
       "    test: Dataset({\n",
       "        features: ['ind', 'activity_label', 'ctx_a', 'ctx_b', 'ctx', 'endings', 'source_id', 'split', 'split_type', 'label'],\n",
       "        num_rows: 10003\n",
       "    })\n",
       "    validation: Dataset({\n",
       "        features: ['ind', 'activity_label', 'ctx_a', 'ctx_b', 'ctx', 'endings', 'source_id', 'split', 'split_type', 'label'],\n",
       "        num_rows: 10042\n",
       "    })\n",
       "})"
      ]
     },
     "execution_count": 5,
     "metadata": {},
     "output_type": "execute_result"
    }
   ],
   "source": [
    "from datasets import load_dataset\n",
    "dataset = load_dataset(\"hellaswag\")\n",
    "dataset\n"
   ]
  },
  {
   "cell_type": "code",
   "execution_count": 6,
   "metadata": {},
   "outputs": [],
   "source": [
    "import pandas as pd\n",
    "\n",
    "train_df = pd.DataFrame(dataset['train'])"
   ]
  },
  {
   "cell_type": "code",
   "execution_count": 39,
   "metadata": {},
   "outputs": [
    {
     "name": "stderr",
     "output_type": "stream",
     "text": [
      "/var/folders/dv/lndb9rrs2kv2v5g8cyfyx0wr0000gn/T/ipykernel_31076/1460773718.py:1: DeprecationWarning: DataFrameGroupBy.apply operated on the grouping columns. This behavior is deprecated, and in a future version of pandas the grouping columns will be excluded from the operation. Either pass `include_groups=False` to exclude the groupings or explicitly select the grouping columns after groupby to silence this warning.\n",
      "  sampled_df = train_df.groupby('activity_label').apply(lambda x: x.sample(1, random_state=42)).reset_index(drop=True)\n"
     ]
    },
    {
     "data": {
      "text/html": [
       "<div>\n",
       "<style scoped>\n",
       "    .dataframe tbody tr th:only-of-type {\n",
       "        vertical-align: middle;\n",
       "    }\n",
       "\n",
       "    .dataframe tbody tr th {\n",
       "        vertical-align: top;\n",
       "    }\n",
       "\n",
       "    .dataframe thead th {\n",
       "        text-align: right;\n",
       "    }\n",
       "</style>\n",
       "<table border=\"1\" class=\"dataframe\">\n",
       "  <thead>\n",
       "    <tr style=\"text-align: right;\">\n",
       "      <th></th>\n",
       "      <th>ind</th>\n",
       "      <th>activity_label</th>\n",
       "      <th>ctx_a</th>\n",
       "      <th>ctx_b</th>\n",
       "      <th>ctx</th>\n",
       "      <th>endings</th>\n",
       "      <th>source_id</th>\n",
       "      <th>split</th>\n",
       "      <th>split_type</th>\n",
       "      <th>label</th>\n",
       "    </tr>\n",
       "  </thead>\n",
       "  <tbody>\n",
       "    <tr>\n",
       "      <th>0</th>\n",
       "      <td>34590</td>\n",
       "      <td>Camel ride</td>\n",
       "      <td>A man is seen holding a small child while look...</td>\n",
       "      <td>the two</td>\n",
       "      <td>A man is seen holding a small child while look...</td>\n",
       "      <td>[are shown in several more shots climbing on t...</td>\n",
       "      <td>activitynet~v_pPGniqIBs-U</td>\n",
       "      <td>train</td>\n",
       "      <td>indomain</td>\n",
       "      <td>3</td>\n",
       "    </tr>\n",
       "    <tr>\n",
       "      <th>1</th>\n",
       "      <td>2539</td>\n",
       "      <td>Drum corps</td>\n",
       "      <td>Text appears on the screen with a link. People...</td>\n",
       "      <td>it</td>\n",
       "      <td>Text appears on the screen with a link. People...</td>\n",
       "      <td>[then cuts to a news anchor with a laptop., en...</td>\n",
       "      <td>activitynet~v_USaP2UCPBEc</td>\n",
       "      <td>train</td>\n",
       "      <td>indomain</td>\n",
       "      <td>2</td>\n",
       "    </tr>\n",
       "    <tr>\n",
       "      <th>2</th>\n",
       "      <td>8031</td>\n",
       "      <td>Slacklining</td>\n",
       "      <td>A man stretches a rope between two trees.</td>\n",
       "      <td>he</td>\n",
       "      <td>A man stretches a rope between two trees. he</td>\n",
       "      <td>[gets on the rope and prepares to start a race...</td>\n",
       "      <td>activitynet~v_73AGD3RWPEw</td>\n",
       "      <td>train</td>\n",
       "      <td>indomain</td>\n",
       "      <td>1</td>\n",
       "    </tr>\n",
       "    <tr>\n",
       "      <th>3</th>\n",
       "      <td>46953</td>\n",
       "      <td>Computers and Electronics</td>\n",
       "      <td>[header] How to change a computer hard drive d...</td>\n",
       "      <td></td>\n",
       "      <td>[header] How to change a computer hard drive d...</td>\n",
       "      <td>[[step] Most small-sized hard drives need an o...</td>\n",
       "      <td>wikihow~77249</td>\n",
       "      <td>train</td>\n",
       "      <td>indomain</td>\n",
       "      <td>1</td>\n",
       "    </tr>\n",
       "    <tr>\n",
       "      <th>4</th>\n",
       "      <td>18878</td>\n",
       "      <td>Horseback riding</td>\n",
       "      <td>.</td>\n",
       "      <td>the lady in blue vest and brown jacket</td>\n",
       "      <td>. the lady in blue vest and brown jacket</td>\n",
       "      <td>[has some more practice punches and then takes...</td>\n",
       "      <td>activitynet~v_W50sQxSWDwM</td>\n",
       "      <td>train</td>\n",
       "      <td>indomain</td>\n",
       "      <td>1</td>\n",
       "    </tr>\n",
       "    <tr>\n",
       "      <th>5</th>\n",
       "      <td>16308</td>\n",
       "      <td>Building sandcastles</td>\n",
       "      <td>A group of kids is building a moat filled with...</td>\n",
       "      <td>we</td>\n",
       "      <td>A group of kids is building a moat filled with...</td>\n",
       "      <td>[see fireworks going off in the background as ...</td>\n",
       "      <td>activitynet~v_TK5FnYshy10</td>\n",
       "      <td>train</td>\n",
       "      <td>indomain</td>\n",
       "      <td>3</td>\n",
       "    </tr>\n",
       "    <tr>\n",
       "      <th>6</th>\n",
       "      <td>36087</td>\n",
       "      <td>Putting on makeup</td>\n",
       "      <td>Young girl puts black mascara on her eyelashes.</td>\n",
       "      <td>she</td>\n",
       "      <td>Young girl puts black mascara on her eyelashes...</td>\n",
       "      <td>[then touches her eyelids, her eyebrows, and h...</td>\n",
       "      <td>activitynet~v_F51cKkjt6tk</td>\n",
       "      <td>train</td>\n",
       "      <td>indomain</td>\n",
       "      <td>2</td>\n",
       "    </tr>\n",
       "    <tr>\n",
       "      <th>7</th>\n",
       "      <td>15105</td>\n",
       "      <td>Work World</td>\n",
       "      <td>[header] How to explain a termination in a job...</td>\n",
       "      <td></td>\n",
       "      <td>[header] How to explain a termination in a job...</td>\n",
       "      <td>[If you can just paint a picture of the situat...</td>\n",
       "      <td>wikihow~24971</td>\n",
       "      <td>train</td>\n",
       "      <td>indomain</td>\n",
       "      <td>3</td>\n",
       "    </tr>\n",
       "    <tr>\n",
       "      <th>8</th>\n",
       "      <td>4424</td>\n",
       "      <td>Playing saxophone</td>\n",
       "      <td>A magazine about saxophones is shown just befo...</td>\n",
       "      <td>multiple screens</td>\n",
       "      <td>A magazine about saxophones is shown just befo...</td>\n",
       "      <td>[appear with features to replace the ones show...</td>\n",
       "      <td>activitynet~v_oTKYejnHLtE</td>\n",
       "      <td>train</td>\n",
       "      <td>indomain</td>\n",
       "      <td>2</td>\n",
       "    </tr>\n",
       "    <tr>\n",
       "      <th>9</th>\n",
       "      <td>177</td>\n",
       "      <td>Smoking a cigarette</td>\n",
       "      <td>A camera pans up to a man sitting and smoking ...</td>\n",
       "      <td>the man smoking cigarettes</td>\n",
       "      <td>A camera pans up to a man sitting and smoking ...</td>\n",
       "      <td>[continues shoveling the debris along the grou...</td>\n",
       "      <td>activitynet~v_0acEl97ZBME</td>\n",
       "      <td>train</td>\n",
       "      <td>indomain</td>\n",
       "      <td>3</td>\n",
       "    </tr>\n",
       "  </tbody>\n",
       "</table>\n",
       "</div>"
      ],
      "text/plain": [
       "     ind             activity_label  \\\n",
       "0  34590                 Camel ride   \n",
       "1   2539                 Drum corps   \n",
       "2   8031                Slacklining   \n",
       "3  46953  Computers and Electronics   \n",
       "4  18878           Horseback riding   \n",
       "5  16308       Building sandcastles   \n",
       "6  36087          Putting on makeup   \n",
       "7  15105                 Work World   \n",
       "8   4424          Playing saxophone   \n",
       "9    177        Smoking a cigarette   \n",
       "\n",
       "                                               ctx_a  \\\n",
       "0  A man is seen holding a small child while look...   \n",
       "1  Text appears on the screen with a link. People...   \n",
       "2          A man stretches a rope between two trees.   \n",
       "3  [header] How to change a computer hard drive d...   \n",
       "4                                                  .   \n",
       "5  A group of kids is building a moat filled with...   \n",
       "6    Young girl puts black mascara on her eyelashes.   \n",
       "7  [header] How to explain a termination in a job...   \n",
       "8  A magazine about saxophones is shown just befo...   \n",
       "9  A camera pans up to a man sitting and smoking ...   \n",
       "\n",
       "                                    ctx_b  \\\n",
       "0                                 the two   \n",
       "1                                      it   \n",
       "2                                      he   \n",
       "3                                           \n",
       "4  the lady in blue vest and brown jacket   \n",
       "5                                      we   \n",
       "6                                     she   \n",
       "7                                           \n",
       "8                        multiple screens   \n",
       "9              the man smoking cigarettes   \n",
       "\n",
       "                                                 ctx  \\\n",
       "0  A man is seen holding a small child while look...   \n",
       "1  Text appears on the screen with a link. People...   \n",
       "2       A man stretches a rope between two trees. he   \n",
       "3  [header] How to change a computer hard drive d...   \n",
       "4           . the lady in blue vest and brown jacket   \n",
       "5  A group of kids is building a moat filled with...   \n",
       "6  Young girl puts black mascara on her eyelashes...   \n",
       "7  [header] How to explain a termination in a job...   \n",
       "8  A magazine about saxophones is shown just befo...   \n",
       "9  A camera pans up to a man sitting and smoking ...   \n",
       "\n",
       "                                             endings  \\\n",
       "0  [are shown in several more shots climbing on t...   \n",
       "1  [then cuts to a news anchor with a laptop., en...   \n",
       "2  [gets on the rope and prepares to start a race...   \n",
       "3  [[step] Most small-sized hard drives need an o...   \n",
       "4  [has some more practice punches and then takes...   \n",
       "5  [see fireworks going off in the background as ...   \n",
       "6  [then touches her eyelids, her eyebrows, and h...   \n",
       "7  [If you can just paint a picture of the situat...   \n",
       "8  [appear with features to replace the ones show...   \n",
       "9  [continues shoveling the debris along the grou...   \n",
       "\n",
       "                   source_id  split split_type label  \n",
       "0  activitynet~v_pPGniqIBs-U  train   indomain     3  \n",
       "1  activitynet~v_USaP2UCPBEc  train   indomain     2  \n",
       "2  activitynet~v_73AGD3RWPEw  train   indomain     1  \n",
       "3              wikihow~77249  train   indomain     1  \n",
       "4  activitynet~v_W50sQxSWDwM  train   indomain     1  \n",
       "5  activitynet~v_TK5FnYshy10  train   indomain     3  \n",
       "6  activitynet~v_F51cKkjt6tk  train   indomain     2  \n",
       "7              wikihow~24971  train   indomain     3  \n",
       "8  activitynet~v_oTKYejnHLtE  train   indomain     2  \n",
       "9  activitynet~v_0acEl97ZBME  train   indomain     3  "
      ]
     },
     "execution_count": 39,
     "metadata": {},
     "output_type": "execute_result"
    }
   ],
   "source": [
    "sampled_df = train_df.groupby('activity_label').apply(lambda x: x.sample(1, random_state=42)).reset_index(drop=True)\n",
    "if len(sampled_df) > 10:\n",
    "    sampled_df = sampled_df.sample(10, random_state=42).reset_index(drop=True)\n",
    "sampled_df"
   ]
  },
  {
   "cell_type": "markdown",
   "metadata": {},
   "source": [
    "### Default hyperparameters\n",
    "Testing LLaMA 3 with default hyperparameters.\n",
    "```\n",
    "temperature = 0.8\n",
    "top_k = 40\n",
    "top_p = 0.9\n",
    "```"
   ]
  },
  {
   "cell_type": "code",
   "execution_count": 57,
   "metadata": {},
   "outputs": [
    {
     "name": "stdout",
     "output_type": "stream",
     "text": [
      "Activity: Camel ride\n",
      "Question 1:\n",
      "('Your task is to think carefully through a reasoning problem.\\n'\n",
      " 'Respond only with [A], [B], [C], or [D]\\n'\n",
      " 'Question: A man is seen holding a small child while looking and smiling to '\n",
      " 'the camera. The two then climb on a camel and ride around while waving to '\n",
      " 'the camera. the two\\n'\n",
      " 'Choice [A]: are shown in several more shots climbing on the camel and '\n",
      " 'walking back.\\n'\n",
      " 'Choice [B]: end up getting off and walking around their ride.\\n'\n",
      " 'Choice [C]: continue riding until the baby pulls a dog down off the camel '\n",
      " 'and the man leaves.\\n'\n",
      " 'Choice [D]: ride back together with the woman leading them in front.\\n'\n",
      " 'Which choice is the best answer?')\n",
      "\n",
      "Correct Choice: D\n",
      "Number of Correct Responses: 10/10\n",
      "Response Distribution:\n",
      "A: 0.00%\n",
      "B: 0.00%\n",
      "C: 0.00%\n",
      "D: 100.00%\n"
     ]
    }
   ],
   "source": [
    "import os\n",
    "from langchain_community.llms import Ollama\n",
    "from IPython.display import clear_output\n",
    "from pprint import pprint\n",
    "import pandas as pd\n",
    "from datasets import load_dataset\n",
    "\n",
    "\n",
    "# Initialize the Llama 3 model using LangChain and Ollama with hyperparameters\n",
    "# llm = Ollama(model=\"llama3\", temperature=1.2, top_k=50, top_p=0.95)\n",
    "\n",
    "llm = Ollama(model=\"llama3\", temperature=0.8, top_k=40, top_p=0.9)\n",
    "\n",
    "# Function to format the HellaSwag example for multiple-choice\n",
    "def format_example(example):\n",
    "    question = example['ctx']\n",
    "    choices = example['endings']\n",
    "    return question, choices, int(example['label'])  # Ensure label is an integer\n",
    "\n",
    "# Function to extract the choice from the model's response\n",
    "def extract_choice(response):\n",
    "    if \"[A]\" in response:\n",
    "        return 0\n",
    "    elif \"[B]\" in response:\n",
    "        return 1\n",
    "    elif \"[C]\" in response:\n",
    "        return 2\n",
    "    elif \"[D]\" in response:\n",
    "        return 3\n",
    "    else:\n",
    "        return -1  # Indicates an error or unrecognized format\n",
    "\n",
    "# Function to test a single example multiple times\n",
    "def test_single_example_multiple_times(idx, num_samples=5):\n",
    "    example = sampled_df.iloc[idx]\n",
    "    question, choices, label = format_example(example)\n",
    "    prompt = \"Your task is to think carefully through a reasoning problem.\\n\"\n",
    "    prompt += \"Respond only with [A], [B], [C], or [D]\\n\"\n",
    "    prompt += f\"Question: {question}\\n\"\n",
    "    labels = ['A', 'B', 'C', 'D']\n",
    "    for i, choice in enumerate(choices):\n",
    "        prompt += f\"Choice [{labels[i]}]: {choice}\\n\"\n",
    "    prompt += \"Which choice is the best answer?\"\n",
    "\n",
    "    responses = []\n",
    "    for _ in range(num_samples):\n",
    "        response = llm.invoke(prompt)\n",
    "        predicted_choice = extract_choice(response)\n",
    "        responses.append(predicted_choice)\n",
    "    \n",
    "\n",
    "    correct_responses = sum(1 for choice in responses if choice == label)\n",
    "    response_distribution = {labels[i]: responses.count(i) for i in range(4)}\n",
    "    \n",
    "    clear_output(wait=True)\n",
    "    print(f\"Activity: {example['activity_label']}\")\n",
    "    print(f\"Question {idx + 1}:\")\n",
    "    pprint(prompt)\n",
    "    print(f\"\\nCorrect Choice: {labels[label]}\")\n",
    "    print(f\"Number of Correct Responses: {correct_responses}/{num_samples}\")\n",
    "    print(\"Response Distribution:\")\n",
    "    for label, count in response_distribution.items():\n",
    "        percentage = (count / num_samples) * 100\n",
    "        print(f\"{label}: {percentage:.2f}%\")\n",
    "\n",
    "# Test a single example by index and sample multiple times\n",
    "test_single_example_multiple_times(0, num_samples=10)  # Change the index to test different examples\n"
   ]
  },
  {
   "cell_type": "code",
   "execution_count": 58,
   "metadata": {},
   "outputs": [
    {
     "name": "stdout",
     "output_type": "stream",
     "text": [
      "Activity: Drum corps\n",
      "Question 2:\n",
      "('Your task is to think carefully through a reasoning problem.\\n'\n",
      " 'Respond only with [A], [B], [C], or [D]\\n'\n",
      " 'Question: Text appears on the screen with a link. People in uniform march '\n",
      " 'down the street. it\\n'\n",
      " 'Choice [A]: then cuts to a news anchor with a laptop.\\n'\n",
      " 'Choice [B]: ends with a lead in footage of the participants walking and '\n",
      " 'cheering.\\n'\n",
      " 'Choice [C]: cuts to the crowd looking on.\\n'\n",
      " 'Choice [D]: screens an ad for the snow camp, with its picture of a cabin.\\n'\n",
      " 'Which choice is the best answer?')\n",
      "\n",
      "Correct Choice: C\n",
      "Number of Correct Responses: 2/10\n",
      "Response Distribution:\n",
      "A: 50.00%\n",
      "B: 30.00%\n",
      "C: 20.00%\n",
      "D: 0.00%\n"
     ]
    }
   ],
   "source": [
    "test_single_example_multiple_times(1, num_samples=10)"
   ]
  },
  {
   "cell_type": "code",
   "execution_count": 59,
   "metadata": {},
   "outputs": [
    {
     "name": "stdout",
     "output_type": "stream",
     "text": [
      "Activity: Slacklining\n",
      "Question 3:\n",
      "('Your task is to think carefully through a reasoning problem.\\n'\n",
      " 'Respond only with [A], [B], [C], or [D]\\n'\n",
      " 'Question: A man stretches a rope between two trees. he\\n'\n",
      " 'Choice [A]: gets on the rope and prepares to start a race.\\n'\n",
      " 'Choice [B]: then balances on the rope as he walks, sits, and bounces on it.\\n'\n",
      " 'Choice [C]: begins walking forward in the path.\\n'\n",
      " 'Choice [D]: puts a shoe on to hold onto the rope.\\n'\n",
      " 'Which choice is the best answer?')\n",
      "\n",
      "Correct Choice: B\n",
      "Number of Correct Responses: 3/10\n",
      "Response Distribution:\n",
      "A: 0.00%\n",
      "B: 30.00%\n",
      "C: 60.00%\n",
      "D: 10.00%\n"
     ]
    }
   ],
   "source": [
    "test_single_example_multiple_times(2, num_samples=10)"
   ]
  },
  {
   "cell_type": "code",
   "execution_count": 60,
   "metadata": {},
   "outputs": [
    {
     "name": "stdout",
     "output_type": "stream",
     "text": [
      "Activity: Computers and Electronics\n",
      "Question 4:\n",
      "('Your task is to think carefully through a reasoning problem.\\n'\n",
      " 'Respond only with [A], [B], [C], or [D]\\n'\n",
      " 'Question: [header] How to change a computer hard drive disk [title] If your '\n",
      " 'hard drive is still working, make sure you make recovery disk or image by '\n",
      " 'using backup or recovery software. [step] If your drive has already failed, '\n",
      " 'hopefully you have your important files saved somewhere as backup. [title] '\n",
      " 'Obtain a new hard drive.\\n'\n",
      " 'Choice [A]: [step] Most small-sized hard drives need an old hard drive to go '\n",
      " 'into recovery. However, it may take a long time to get old hard drives to '\n",
      " 'get back to their original capacity.\\n'\n",
      " 'Choice [B]: [step] Make sure you have the right type of hard drive for your '\n",
      " 'computer. Generally speaking, you want to replace your original drive with a '\n",
      " 'similar drive to make the process easier and simpler.\\n'\n",
      " 'Choice [C]: [step] An external hard drive, such as a wineing or tonneau '\n",
      " '2200. [title] Insert the hard drive into the cd/dvd cd slot.\\n'\n",
      " 'Choice [D]: [step] Many motherboards use specific chf-128 drives, all '\n",
      " 'designed to be small enough to easily safely use. The amount of space '\n",
      " 'requirements depends on how big a drive you have, but a 6 gb (2.4 l) drive '\n",
      " 'should be enough to safely run computers.\\n'\n",
      " 'Which choice is the best answer?')\n",
      "\n",
      "Correct Choice: B\n",
      "Number of Correct Responses: 10/10\n",
      "Response Distribution:\n",
      "A: 0.00%\n",
      "B: 100.00%\n",
      "C: 0.00%\n",
      "D: 0.00%\n"
     ]
    }
   ],
   "source": [
    "test_single_example_multiple_times(3, num_samples=10)"
   ]
  },
  {
   "cell_type": "code",
   "execution_count": 55,
   "metadata": {},
   "outputs": [
    {
     "name": "stdout",
     "output_type": "stream",
     "text": [
      "Question 4:\n",
      "('Your task is to think carefully through a reasoning problem.\\n'\n",
      " 'Respond only with [A], [B], [C], or [D]\\n'\n",
      " 'Question: [header] How to change a computer hard drive disk [title] If your '\n",
      " 'hard drive is still working, make sure you make recovery disk or image by '\n",
      " 'using backup or recovery software. [step] If your drive has already failed, '\n",
      " 'hopefully you have your important files saved somewhere as backup. [title] '\n",
      " 'Obtain a new hard drive.\\n'\n",
      " 'Choice [A]: [step] Most small-sized hard drives need an old hard drive to go '\n",
      " 'into recovery. However, it may take a long time to get old hard drives to '\n",
      " 'get back to their original capacity.\\n'\n",
      " 'Choice [B]: [step] Make sure you have the right type of hard drive for your '\n",
      " 'computer. Generally speaking, you want to replace your original drive with a '\n",
      " 'similar drive to make the process easier and simpler.\\n'\n",
      " 'Choice [C]: [step] An external hard drive, such as a wineing or tonneau '\n",
      " '2200. [title] Insert the hard drive into the cd/dvd cd slot.\\n'\n",
      " 'Choice [D]: [step] Many motherboards use specific chf-128 drives, all '\n",
      " 'designed to be small enough to easily safely use. The amount of space '\n",
      " 'requirements depends on how big a drive you have, but a 6 gb (2.4 l) drive '\n",
      " 'should be enough to safely run computers.\\n'\n",
      " 'Which choice is the best answer?')\n",
      "\n",
      "Correct Choice: B\n",
      "Number of Correct Responses: 10/10\n",
      "Response Distribution:\n",
      "A: 0.00%\n",
      "B: 100.00%\n",
      "C: 0.00%\n",
      "D: 0.00%\n"
     ]
    }
   ],
   "source": [
    "test_single_example_multiple_times(3, num_samples=10)"
   ]
  },
  {
   "cell_type": "code",
   "execution_count": 61,
   "metadata": {},
   "outputs": [
    {
     "name": "stdout",
     "output_type": "stream",
     "text": [
      "Activity: Horseback riding\n",
      "Question 5:\n",
      "('Your task is to think carefully through a reasoning problem.\\n'\n",
      " 'Respond only with [A], [B], [C], or [D]\\n'\n",
      " 'Question: . the lady in blue vest and brown jacket\\n'\n",
      " 'Choice [A]: has some more practice punches and then takes one hand grab her '\n",
      " 'elbow and go straight into a crouch and to the side to do the same and then '\n",
      " 'grab her armpit to throw the punch.\\n'\n",
      " 'Choice [B]: is sitting on a brown horse, while a man is standing beside the '\n",
      " 'horse, holding another horse.\\n'\n",
      " 'Choice [C]: holds an orange handled knife and the lady in the green vest '\n",
      " 'holds an orange handled knife with the blue handled handle.\\n'\n",
      " 'Choice [D]: is now standing at the mountain top preparing to get started '\n",
      " 'putting bungee jumps on the ground.\\n'\n",
      " 'Which choice is the best answer?')\n",
      "\n",
      "Correct Choice: B\n",
      "Number of Correct Responses: 3/10\n",
      "Response Distribution:\n",
      "A: 0.00%\n",
      "B: 30.00%\n",
      "C: 0.00%\n",
      "D: 70.00%\n"
     ]
    }
   ],
   "source": [
    "test_single_example_multiple_times(4, num_samples=10)"
   ]
  },
  {
   "cell_type": "code",
   "execution_count": 62,
   "metadata": {},
   "outputs": [
    {
     "name": "stdout",
     "output_type": "stream",
     "text": [
      "Activity: Building sandcastles\n",
      "Question 6:\n",
      "('Your task is to think carefully through a reasoning problem.\\n'\n",
      " 'Respond only with [A], [B], [C], or [D]\\n'\n",
      " 'Question: A group of kids is building a moat filled with water around a sand '\n",
      " 'castle. A little girl with floaters on pour water in the moat. we\\n'\n",
      " 'Choice [A]: see fireworks going off in the background as the kids continue '\n",
      " 'to build.\\n'\n",
      " 'Choice [B]: see an opening title screen.\\n'\n",
      " 'Choice [C]: see children on the other side avoiding the water castle.\\n'\n",
      " 'Choice [D]: see kids across the beach working on their castles in the wet '\n",
      " 'sand.\\n'\n",
      " 'Which choice is the best answer?')\n",
      "\n",
      "Correct Choice: D\n",
      "Number of Correct Responses: 10/10\n",
      "Response Distribution:\n",
      "A: 0.00%\n",
      "B: 0.00%\n",
      "C: 0.00%\n",
      "D: 100.00%\n"
     ]
    }
   ],
   "source": [
    "test_single_example_multiple_times(5, num_samples=10)"
   ]
  },
  {
   "cell_type": "code",
   "execution_count": 63,
   "metadata": {},
   "outputs": [
    {
     "name": "stdout",
     "output_type": "stream",
     "text": [
      "Activity: Putting on makeup\n",
      "Question 7:\n",
      "('Your task is to think carefully through a reasoning problem.\\n'\n",
      " 'Respond only with [A], [B], [C], or [D]\\n'\n",
      " 'Question: Young girl puts black mascara on her eyelashes. she\\n'\n",
      " 'Choice [A]: then touches her eyelids, her eyebrows, and her cheeks.\\n'\n",
      " 'Choice [B]: then applies painted and painted eyeliner to her eye lashes.\\n'\n",
      " 'Choice [C]: looks into the large mirror.\\n'\n",
      " 'Choice [D]: puts red colored eye lashes, then does eye shadow.\\n'\n",
      " 'Which choice is the best answer?')\n",
      "\n",
      "Correct Choice: C\n",
      "Number of Correct Responses: 1/10\n",
      "Response Distribution:\n",
      "A: 10.00%\n",
      "B: 20.00%\n",
      "C: 10.00%\n",
      "D: 60.00%\n"
     ]
    }
   ],
   "source": [
    "test_single_example_multiple_times(6, num_samples=10)"
   ]
  },
  {
   "cell_type": "code",
   "execution_count": 64,
   "metadata": {},
   "outputs": [
    {
     "name": "stdout",
     "output_type": "stream",
     "text": [
      "Activity: Work World\n",
      "Question 8:\n",
      "('Your task is to think carefully through a reasoning problem.\\n'\n",
      " 'Respond only with [A], [B], [C], or [D]\\n'\n",
      " 'Question: [header] How to explain a termination in a job interview [title] '\n",
      " 'Be honest. [step] When your interviewer asks you why you left your last job, '\n",
      " 'the best thing you can do is be honest. Making up stories will only make you '\n",
      " 'seem irresponsible and untrustworthy.\\n'\n",
      " 'Choice [A]: If you can just paint a picture of the situation, you will '\n",
      " 'hardly convince your interviewer. Stick to facts you can use to bridge the '\n",
      " 'gap between your actions and those of the employer.\\n'\n",
      " \"Choice [B]: Don't exaggerate what might have happened or be vague about the \"\n",
      " \"specific circumstances that led to you leaving. [substeps] Don't contact one \"\n",
      " \"of your supervisors to tell them you've terminated your job.\\n\"\n",
      " 'Choice [C]: You will seem like a liar by having an inaccurate job '\n",
      " 'description and a reputation of being a failure. Choose facts that work for '\n",
      " 'you and make your case.\\n'\n",
      " 'Choice [D]: [substeps] Think about what your employer might say if the '\n",
      " \"interviewer calls to follow up on your story. It's very important that you \"\n",
      " \"don't say anything that will be contradicted by your former employer's \"\n",
      " 'story.\\n'\n",
      " 'Which choice is the best answer?')\n",
      "\n",
      "Correct Choice: D\n",
      "Number of Correct Responses: 7/10\n",
      "Response Distribution:\n",
      "A: 0.00%\n",
      "B: 30.00%\n",
      "C: 0.00%\n",
      "D: 70.00%\n"
     ]
    }
   ],
   "source": [
    "test_single_example_multiple_times(7, num_samples=10)"
   ]
  },
  {
   "cell_type": "code",
   "execution_count": 65,
   "metadata": {},
   "outputs": [
    {
     "name": "stdout",
     "output_type": "stream",
     "text": [
      "Activity: Playing saxophone\n",
      "Question 9:\n",
      "('Your task is to think carefully through a reasoning problem.\\n'\n",
      " 'Respond only with [A], [B], [C], or [D]\\n'\n",
      " 'Question: A magazine about saxophones is shown just before a pair of hands '\n",
      " 'are shown playing a saxophone. multiple screens\\n'\n",
      " 'Choice [A]: appear with features to replace the ones shown on the tv '\n",
      " 'screen.\\n'\n",
      " 'Choice [B]: show the two hands playing as they play one more tune on the '\n",
      " 'saxophone.\\n'\n",
      " 'Choice [C]: begin to appear, showing the hands playing various notes on the '\n",
      " 'screen.\\n'\n",
      " 'Choice [D]: flash and a keyboard appears with the word \" connect \" and an '\n",
      " 'arrow going down.\\n'\n",
      " 'Which choice is the best answer?')\n",
      "\n",
      "Correct Choice: C\n",
      "Number of Correct Responses: 1/10\n",
      "Response Distribution:\n",
      "A: 0.00%\n",
      "B: 0.00%\n",
      "C: 10.00%\n",
      "D: 90.00%\n"
     ]
    }
   ],
   "source": [
    "test_single_example_multiple_times(8, num_samples=10)"
   ]
  },
  {
   "cell_type": "code",
   "execution_count": 66,
   "metadata": {},
   "outputs": [
    {
     "name": "stdout",
     "output_type": "stream",
     "text": [
      "Activity: Smoking a cigarette\n",
      "Question 10:\n",
      "('Your task is to think carefully through a reasoning problem.\\n'\n",
      " 'Respond only with [A], [B], [C], or [D]\\n'\n",
      " 'Question: A camera pans up to a man sitting and smoking a cigarette. Another '\n",
      " 'man walks over with a cart and begins digging through trash. the man smoking '\n",
      " 'cigarettes\\n'\n",
      " 'Choice [A]: continues shoveling the debris along the ground.\\n'\n",
      " 'Choice [B]: walks back with the cart while the second man continues to '\n",
      " 'shovel the dirt.\\n'\n",
      " 'Choice [C]: takes the cigarette out of his mouth and finally spits it out.\\n'\n",
      " 'Choice [D]: begins talking to the homeless man about how life sucks and how '\n",
      " 'he can relate to the homeless man.\\n'\n",
      " 'Which choice is the best answer?')\n",
      "\n",
      "Correct Choice: D\n",
      "Number of Correct Responses: 4/10\n",
      "Response Distribution:\n",
      "A: 0.00%\n",
      "B: 40.00%\n",
      "C: 20.00%\n",
      "D: 40.00%\n"
     ]
    }
   ],
   "source": [
    "test_single_example_multiple_times(9, num_samples=10)"
   ]
  },
  {
   "cell_type": "markdown",
   "metadata": {},
   "source": [
    "### Low top k \n",
    "Conservative approach\n",
    "```\n",
    "temperature = 0.8\n",
    "top_k = 10\n",
    "top_p = 0.9\n",
    "```\n"
   ]
  },
  {
   "cell_type": "code",
   "execution_count": 71,
   "metadata": {},
   "outputs": [
    {
     "name": "stdout",
     "output_type": "stream",
     "text": [
      "Activity: Camel ride\n",
      "Question 1:\n",
      "('Your task is to think carefully through a reasoning problem.\\n'\n",
      " 'Respond only with [A], [B], [C], or [D]\\n'\n",
      " 'Question: A man is seen holding a small child while looking and smiling to '\n",
      " 'the camera. The two then climb on a camel and ride around while waving to '\n",
      " 'the camera. the two\\n'\n",
      " 'Choice [A]: are shown in several more shots climbing on the camel and '\n",
      " 'walking back.\\n'\n",
      " 'Choice [B]: end up getting off and walking around their ride.\\n'\n",
      " 'Choice [C]: continue riding until the baby pulls a dog down off the camel '\n",
      " 'and the man leaves.\\n'\n",
      " 'Choice [D]: ride back together with the woman leading them in front.\\n'\n",
      " 'Which choice is the best answer?')\n",
      "\n",
      "Correct Choice: D\n",
      "Number of Correct Responses: 10/10\n",
      "Response Distribution:\n",
      "A: 0.00%\n",
      "B: 0.00%\n",
      "C: 0.00%\n",
      "D: 100.00%\n"
     ]
    }
   ],
   "source": [
    "llm = Ollama(model=\"llama3\", temperature=0.8, top_k=10, top_p=0.9)\n",
    "test_single_example_multiple_times(0, num_samples=10)"
   ]
  },
  {
   "cell_type": "code",
   "execution_count": 72,
   "metadata": {},
   "outputs": [
    {
     "name": "stdout",
     "output_type": "stream",
     "text": [
      "Activity: Drum corps\n",
      "Question 2:\n",
      "('Your task is to think carefully through a reasoning problem.\\n'\n",
      " 'Respond only with [A], [B], [C], or [D]\\n'\n",
      " 'Question: Text appears on the screen with a link. People in uniform march '\n",
      " 'down the street. it\\n'\n",
      " 'Choice [A]: then cuts to a news anchor with a laptop.\\n'\n",
      " 'Choice [B]: ends with a lead in footage of the participants walking and '\n",
      " 'cheering.\\n'\n",
      " 'Choice [C]: cuts to the crowd looking on.\\n'\n",
      " 'Choice [D]: screens an ad for the snow camp, with its picture of a cabin.\\n'\n",
      " 'Which choice is the best answer?')\n",
      "\n",
      "Correct Choice: C\n",
      "Number of Correct Responses: 1/10\n",
      "Response Distribution:\n",
      "A: 50.00%\n",
      "B: 40.00%\n",
      "C: 10.00%\n",
      "D: 0.00%\n"
     ]
    }
   ],
   "source": [
    "test_single_example_multiple_times(1, num_samples=10)"
   ]
  },
  {
   "cell_type": "code",
   "execution_count": 73,
   "metadata": {},
   "outputs": [
    {
     "name": "stdout",
     "output_type": "stream",
     "text": [
      "Activity: Slacklining\n",
      "Question 3:\n",
      "('Your task is to think carefully through a reasoning problem.\\n'\n",
      " 'Respond only with [A], [B], [C], or [D]\\n'\n",
      " 'Question: A man stretches a rope between two trees. he\\n'\n",
      " 'Choice [A]: gets on the rope and prepares to start a race.\\n'\n",
      " 'Choice [B]: then balances on the rope as he walks, sits, and bounces on it.\\n'\n",
      " 'Choice [C]: begins walking forward in the path.\\n'\n",
      " 'Choice [D]: puts a shoe on to hold onto the rope.\\n'\n",
      " 'Which choice is the best answer?')\n",
      "\n",
      "Correct Choice: B\n",
      "Number of Correct Responses: 3/10\n",
      "Response Distribution:\n",
      "A: 0.00%\n",
      "B: 30.00%\n",
      "C: 60.00%\n",
      "D: 10.00%\n"
     ]
    }
   ],
   "source": [
    "test_single_example_multiple_times(2, num_samples=10)"
   ]
  },
  {
   "cell_type": "code",
   "execution_count": 74,
   "metadata": {},
   "outputs": [
    {
     "name": "stdout",
     "output_type": "stream",
     "text": [
      "Activity: Computers and Electronics\n",
      "Question 4:\n",
      "('Your task is to think carefully through a reasoning problem.\\n'\n",
      " 'Respond only with [A], [B], [C], or [D]\\n'\n",
      " 'Question: [header] How to change a computer hard drive disk [title] If your '\n",
      " 'hard drive is still working, make sure you make recovery disk or image by '\n",
      " 'using backup or recovery software. [step] If your drive has already failed, '\n",
      " 'hopefully you have your important files saved somewhere as backup. [title] '\n",
      " 'Obtain a new hard drive.\\n'\n",
      " 'Choice [A]: [step] Most small-sized hard drives need an old hard drive to go '\n",
      " 'into recovery. However, it may take a long time to get old hard drives to '\n",
      " 'get back to their original capacity.\\n'\n",
      " 'Choice [B]: [step] Make sure you have the right type of hard drive for your '\n",
      " 'computer. Generally speaking, you want to replace your original drive with a '\n",
      " 'similar drive to make the process easier and simpler.\\n'\n",
      " 'Choice [C]: [step] An external hard drive, such as a wineing or tonneau '\n",
      " '2200. [title] Insert the hard drive into the cd/dvd cd slot.\\n'\n",
      " 'Choice [D]: [step] Many motherboards use specific chf-128 drives, all '\n",
      " 'designed to be small enough to easily safely use. The amount of space '\n",
      " 'requirements depends on how big a drive you have, but a 6 gb (2.4 l) drive '\n",
      " 'should be enough to safely run computers.\\n'\n",
      " 'Which choice is the best answer?')\n",
      "\n",
      "Correct Choice: B\n",
      "Number of Correct Responses: 10/10\n",
      "Response Distribution:\n",
      "A: 0.00%\n",
      "B: 100.00%\n",
      "C: 0.00%\n",
      "D: 0.00%\n"
     ]
    }
   ],
   "source": [
    "test_single_example_multiple_times(3, num_samples=10)"
   ]
  },
  {
   "cell_type": "code",
   "execution_count": 75,
   "metadata": {},
   "outputs": [
    {
     "name": "stdout",
     "output_type": "stream",
     "text": [
      "Activity: Horseback riding\n",
      "Question 5:\n",
      "('Your task is to think carefully through a reasoning problem.\\n'\n",
      " 'Respond only with [A], [B], [C], or [D]\\n'\n",
      " 'Question: . the lady in blue vest and brown jacket\\n'\n",
      " 'Choice [A]: has some more practice punches and then takes one hand grab her '\n",
      " 'elbow and go straight into a crouch and to the side to do the same and then '\n",
      " 'grab her armpit to throw the punch.\\n'\n",
      " 'Choice [B]: is sitting on a brown horse, while a man is standing beside the '\n",
      " 'horse, holding another horse.\\n'\n",
      " 'Choice [C]: holds an orange handled knife and the lady in the green vest '\n",
      " 'holds an orange handled knife with the blue handled handle.\\n'\n",
      " 'Choice [D]: is now standing at the mountain top preparing to get started '\n",
      " 'putting bungee jumps on the ground.\\n'\n",
      " 'Which choice is the best answer?')\n",
      "\n",
      "Correct Choice: B\n",
      "Number of Correct Responses: 5/10\n",
      "Response Distribution:\n",
      "A: 10.00%\n",
      "B: 50.00%\n",
      "C: 0.00%\n",
      "D: 40.00%\n"
     ]
    }
   ],
   "source": [
    "test_single_example_multiple_times(4, num_samples=10)"
   ]
  },
  {
   "cell_type": "code",
   "execution_count": 76,
   "metadata": {},
   "outputs": [
    {
     "name": "stdout",
     "output_type": "stream",
     "text": [
      "Activity: Putting on makeup\n",
      "Question 7:\n",
      "('Your task is to think carefully through a reasoning problem.\\n'\n",
      " 'Respond only with [A], [B], [C], or [D]\\n'\n",
      " 'Question: Young girl puts black mascara on her eyelashes. she\\n'\n",
      " 'Choice [A]: then touches her eyelids, her eyebrows, and her cheeks.\\n'\n",
      " 'Choice [B]: then applies painted and painted eyeliner to her eye lashes.\\n'\n",
      " 'Choice [C]: looks into the large mirror.\\n'\n",
      " 'Choice [D]: puts red colored eye lashes, then does eye shadow.\\n'\n",
      " 'Which choice is the best answer?')\n",
      "\n",
      "Correct Choice: C\n",
      "Number of Correct Responses: 0/10\n",
      "Response Distribution:\n",
      "A: 30.00%\n",
      "B: 0.00%\n",
      "C: 0.00%\n",
      "D: 70.00%\n"
     ]
    }
   ],
   "source": [
    "test_single_example_multiple_times(6, num_samples=10)"
   ]
  },
  {
   "cell_type": "code",
   "execution_count": 77,
   "metadata": {},
   "outputs": [
    {
     "name": "stdout",
     "output_type": "stream",
     "text": [
      "Activity: Work World\n",
      "Question 8:\n",
      "('Your task is to think carefully through a reasoning problem.\\n'\n",
      " 'Respond only with [A], [B], [C], or [D]\\n'\n",
      " 'Question: [header] How to explain a termination in a job interview [title] '\n",
      " 'Be honest. [step] When your interviewer asks you why you left your last job, '\n",
      " 'the best thing you can do is be honest. Making up stories will only make you '\n",
      " 'seem irresponsible and untrustworthy.\\n'\n",
      " 'Choice [A]: If you can just paint a picture of the situation, you will '\n",
      " 'hardly convince your interviewer. Stick to facts you can use to bridge the '\n",
      " 'gap between your actions and those of the employer.\\n'\n",
      " \"Choice [B]: Don't exaggerate what might have happened or be vague about the \"\n",
      " \"specific circumstances that led to you leaving. [substeps] Don't contact one \"\n",
      " \"of your supervisors to tell them you've terminated your job.\\n\"\n",
      " 'Choice [C]: You will seem like a liar by having an inaccurate job '\n",
      " 'description and a reputation of being a failure. Choose facts that work for '\n",
      " 'you and make your case.\\n'\n",
      " 'Choice [D]: [substeps] Think about what your employer might say if the '\n",
      " \"interviewer calls to follow up on your story. It's very important that you \"\n",
      " \"don't say anything that will be contradicted by your former employer's \"\n",
      " 'story.\\n'\n",
      " 'Which choice is the best answer?')\n",
      "\n",
      "Correct Choice: D\n",
      "Number of Correct Responses: 5/10\n",
      "Response Distribution:\n",
      "A: 0.00%\n",
      "B: 50.00%\n",
      "C: 0.00%\n",
      "D: 50.00%\n"
     ]
    }
   ],
   "source": [
    "test_single_example_multiple_times(7, num_samples=10)"
   ]
  },
  {
   "cell_type": "code",
   "execution_count": 78,
   "metadata": {},
   "outputs": [
    {
     "name": "stdout",
     "output_type": "stream",
     "text": [
      "Activity: Playing saxophone\n",
      "Question 9:\n",
      "('Your task is to think carefully through a reasoning problem.\\n'\n",
      " 'Respond only with [A], [B], [C], or [D]\\n'\n",
      " 'Question: A magazine about saxophones is shown just before a pair of hands '\n",
      " 'are shown playing a saxophone. multiple screens\\n'\n",
      " 'Choice [A]: appear with features to replace the ones shown on the tv '\n",
      " 'screen.\\n'\n",
      " 'Choice [B]: show the two hands playing as they play one more tune on the '\n",
      " 'saxophone.\\n'\n",
      " 'Choice [C]: begin to appear, showing the hands playing various notes on the '\n",
      " 'screen.\\n'\n",
      " 'Choice [D]: flash and a keyboard appears with the word \" connect \" and an '\n",
      " 'arrow going down.\\n'\n",
      " 'Which choice is the best answer?')\n",
      "\n",
      "Correct Choice: C\n",
      "Number of Correct Responses: 0/10\n",
      "Response Distribution:\n",
      "A: 0.00%\n",
      "B: 0.00%\n",
      "C: 0.00%\n",
      "D: 100.00%\n"
     ]
    }
   ],
   "source": [
    "test_single_example_multiple_times(8, num_samples=10)"
   ]
  },
  {
   "cell_type": "code",
   "execution_count": 79,
   "metadata": {},
   "outputs": [
    {
     "name": "stdout",
     "output_type": "stream",
     "text": [
      "Activity: Smoking a cigarette\n",
      "Question 10:\n",
      "('Your task is to think carefully through a reasoning problem.\\n'\n",
      " 'Respond only with [A], [B], [C], or [D]\\n'\n",
      " 'Question: A camera pans up to a man sitting and smoking a cigarette. Another '\n",
      " 'man walks over with a cart and begins digging through trash. the man smoking '\n",
      " 'cigarettes\\n'\n",
      " 'Choice [A]: continues shoveling the debris along the ground.\\n'\n",
      " 'Choice [B]: walks back with the cart while the second man continues to '\n",
      " 'shovel the dirt.\\n'\n",
      " 'Choice [C]: takes the cigarette out of his mouth and finally spits it out.\\n'\n",
      " 'Choice [D]: begins talking to the homeless man about how life sucks and how '\n",
      " 'he can relate to the homeless man.\\n'\n",
      " 'Which choice is the best answer?')\n",
      "\n",
      "Correct Choice: D\n",
      "Number of Correct Responses: 6/10\n",
      "Response Distribution:\n",
      "A: 0.00%\n",
      "B: 20.00%\n",
      "C: 20.00%\n",
      "D: 60.00%\n"
     ]
    }
   ],
   "source": [
    "test_single_example_multiple_times(9, num_samples=10)"
   ]
  },
  {
   "cell_type": "code",
   "execution_count": null,
   "metadata": {},
   "outputs": [],
   "source": []
  },
  {
   "cell_type": "markdown",
   "metadata": {},
   "source": [
    "### Low top k, low top p \n",
    "More conservative approach\n",
    "```\n",
    "temperature = 0.8\n",
    "top_k = 10\n",
    "top_p = 0.5\n",
    "```\n"
   ]
  },
  {
   "cell_type": "code",
   "execution_count": 90,
   "metadata": {},
   "outputs": [
    {
     "name": "stdout",
     "output_type": "stream",
     "text": [
      "Activity: Camel ride\n",
      "Question 1:\n",
      "('Your task is to think carefully through a reasoning problem.\\n'\n",
      " 'Respond only with [A], [B], [C], or [D]\\n'\n",
      " 'Question: A man is seen holding a small child while looking and smiling to '\n",
      " 'the camera. The two then climb on a camel and ride around while waving to '\n",
      " 'the camera. the two\\n'\n",
      " 'Choice [A]: are shown in several more shots climbing on the camel and '\n",
      " 'walking back.\\n'\n",
      " 'Choice [B]: end up getting off and walking around their ride.\\n'\n",
      " 'Choice [C]: continue riding until the baby pulls a dog down off the camel '\n",
      " 'and the man leaves.\\n'\n",
      " 'Choice [D]: ride back together with the woman leading them in front.\\n'\n",
      " 'Which choice is the best answer?')\n",
      "\n",
      "Correct Choice: D\n",
      "Number of Correct Responses: 10/10\n",
      "Response Distribution:\n",
      "A: 0.00%\n",
      "B: 0.00%\n",
      "C: 0.00%\n",
      "D: 100.00%\n"
     ]
    }
   ],
   "source": [
    "llm = Ollama(model=\"llama3\", temperature=0.8, top_k=10, top_p=0.5)\n",
    "test_single_example_multiple_times(0, num_samples=10)"
   ]
  },
  {
   "cell_type": "code",
   "execution_count": 91,
   "metadata": {},
   "outputs": [
    {
     "name": "stdout",
     "output_type": "stream",
     "text": [
      "Activity: Drum corps\n",
      "Question 2:\n",
      "('Your task is to think carefully through a reasoning problem.\\n'\n",
      " 'Respond only with [A], [B], [C], or [D]\\n'\n",
      " 'Question: Text appears on the screen with a link. People in uniform march '\n",
      " 'down the street. it\\n'\n",
      " 'Choice [A]: then cuts to a news anchor with a laptop.\\n'\n",
      " 'Choice [B]: ends with a lead in footage of the participants walking and '\n",
      " 'cheering.\\n'\n",
      " 'Choice [C]: cuts to the crowd looking on.\\n'\n",
      " 'Choice [D]: screens an ad for the snow camp, with its picture of a cabin.\\n'\n",
      " 'Which choice is the best answer?')\n",
      "\n",
      "Correct Choice: C\n",
      "Number of Correct Responses: 2/10\n",
      "Response Distribution:\n",
      "A: 80.00%\n",
      "B: 0.00%\n",
      "C: 20.00%\n",
      "D: 0.00%\n"
     ]
    }
   ],
   "source": [
    "test_single_example_multiple_times(1, num_samples=10)"
   ]
  },
  {
   "cell_type": "code",
   "execution_count": 92,
   "metadata": {},
   "outputs": [
    {
     "name": "stdout",
     "output_type": "stream",
     "text": [
      "Activity: Slacklining\n",
      "Question 3:\n",
      "('Your task is to think carefully through a reasoning problem.\\n'\n",
      " 'Respond only with [A], [B], [C], or [D]\\n'\n",
      " 'Question: A man stretches a rope between two trees. he\\n'\n",
      " 'Choice [A]: gets on the rope and prepares to start a race.\\n'\n",
      " 'Choice [B]: then balances on the rope as he walks, sits, and bounces on it.\\n'\n",
      " 'Choice [C]: begins walking forward in the path.\\n'\n",
      " 'Choice [D]: puts a shoe on to hold onto the rope.\\n'\n",
      " 'Which choice is the best answer?')\n",
      "\n",
      "Correct Choice: B\n",
      "Number of Correct Responses: 5/10\n",
      "Response Distribution:\n",
      "A: 0.00%\n",
      "B: 50.00%\n",
      "C: 50.00%\n",
      "D: 0.00%\n"
     ]
    }
   ],
   "source": [
    "test_single_example_multiple_times(2, num_samples=10)"
   ]
  },
  {
   "cell_type": "code",
   "execution_count": 93,
   "metadata": {},
   "outputs": [
    {
     "name": "stdout",
     "output_type": "stream",
     "text": [
      "Activity: Computers and Electronics\n",
      "Question 4:\n",
      "('Your task is to think carefully through a reasoning problem.\\n'\n",
      " 'Respond only with [A], [B], [C], or [D]\\n'\n",
      " 'Question: [header] How to change a computer hard drive disk [title] If your '\n",
      " 'hard drive is still working, make sure you make recovery disk or image by '\n",
      " 'using backup or recovery software. [step] If your drive has already failed, '\n",
      " 'hopefully you have your important files saved somewhere as backup. [title] '\n",
      " 'Obtain a new hard drive.\\n'\n",
      " 'Choice [A]: [step] Most small-sized hard drives need an old hard drive to go '\n",
      " 'into recovery. However, it may take a long time to get old hard drives to '\n",
      " 'get back to their original capacity.\\n'\n",
      " 'Choice [B]: [step] Make sure you have the right type of hard drive for your '\n",
      " 'computer. Generally speaking, you want to replace your original drive with a '\n",
      " 'similar drive to make the process easier and simpler.\\n'\n",
      " 'Choice [C]: [step] An external hard drive, such as a wineing or tonneau '\n",
      " '2200. [title] Insert the hard drive into the cd/dvd cd slot.\\n'\n",
      " 'Choice [D]: [step] Many motherboards use specific chf-128 drives, all '\n",
      " 'designed to be small enough to easily safely use. The amount of space '\n",
      " 'requirements depends on how big a drive you have, but a 6 gb (2.4 l) drive '\n",
      " 'should be enough to safely run computers.\\n'\n",
      " 'Which choice is the best answer?')\n",
      "\n",
      "Correct Choice: B\n",
      "Number of Correct Responses: 10/10\n",
      "Response Distribution:\n",
      "A: 0.00%\n",
      "B: 100.00%\n",
      "C: 0.00%\n",
      "D: 0.00%\n"
     ]
    }
   ],
   "source": [
    "test_single_example_multiple_times(3, num_samples=10)"
   ]
  },
  {
   "cell_type": "code",
   "execution_count": 94,
   "metadata": {},
   "outputs": [
    {
     "name": "stdout",
     "output_type": "stream",
     "text": [
      "Activity: Horseback riding\n",
      "Question 5:\n",
      "('Your task is to think carefully through a reasoning problem.\\n'\n",
      " 'Respond only with [A], [B], [C], or [D]\\n'\n",
      " 'Question: . the lady in blue vest and brown jacket\\n'\n",
      " 'Choice [A]: has some more practice punches and then takes one hand grab her '\n",
      " 'elbow and go straight into a crouch and to the side to do the same and then '\n",
      " 'grab her armpit to throw the punch.\\n'\n",
      " 'Choice [B]: is sitting on a brown horse, while a man is standing beside the '\n",
      " 'horse, holding another horse.\\n'\n",
      " 'Choice [C]: holds an orange handled knife and the lady in the green vest '\n",
      " 'holds an orange handled knife with the blue handled handle.\\n'\n",
      " 'Choice [D]: is now standing at the mountain top preparing to get started '\n",
      " 'putting bungee jumps on the ground.\\n'\n",
      " 'Which choice is the best answer?')\n",
      "\n",
      "Correct Choice: B\n",
      "Number of Correct Responses: 5/10\n",
      "Response Distribution:\n",
      "A: 0.00%\n",
      "B: 50.00%\n",
      "C: 0.00%\n",
      "D: 50.00%\n"
     ]
    }
   ],
   "source": [
    "test_single_example_multiple_times(4, num_samples=10)"
   ]
  },
  {
   "cell_type": "code",
   "execution_count": 95,
   "metadata": {},
   "outputs": [
    {
     "name": "stdout",
     "output_type": "stream",
     "text": [
      "Activity: Building sandcastles\n",
      "Question 6:\n",
      "('Your task is to think carefully through a reasoning problem.\\n'\n",
      " 'Respond only with [A], [B], [C], or [D]\\n'\n",
      " 'Question: A group of kids is building a moat filled with water around a sand '\n",
      " 'castle. A little girl with floaters on pour water in the moat. we\\n'\n",
      " 'Choice [A]: see fireworks going off in the background as the kids continue '\n",
      " 'to build.\\n'\n",
      " 'Choice [B]: see an opening title screen.\\n'\n",
      " 'Choice [C]: see children on the other side avoiding the water castle.\\n'\n",
      " 'Choice [D]: see kids across the beach working on their castles in the wet '\n",
      " 'sand.\\n'\n",
      " 'Which choice is the best answer?')\n",
      "\n",
      "Correct Choice: D\n",
      "Number of Correct Responses: 10/10\n",
      "Response Distribution:\n",
      "A: 0.00%\n",
      "B: 0.00%\n",
      "C: 0.00%\n",
      "D: 100.00%\n"
     ]
    }
   ],
   "source": [
    "test_single_example_multiple_times(5, num_samples=10)"
   ]
  },
  {
   "cell_type": "code",
   "execution_count": 96,
   "metadata": {},
   "outputs": [
    {
     "name": "stdout",
     "output_type": "stream",
     "text": [
      "Activity: Putting on makeup\n",
      "Question 7:\n",
      "('Your task is to think carefully through a reasoning problem.\\n'\n",
      " 'Respond only with [A], [B], [C], or [D]\\n'\n",
      " 'Question: Young girl puts black mascara on her eyelashes. she\\n'\n",
      " 'Choice [A]: then touches her eyelids, her eyebrows, and her cheeks.\\n'\n",
      " 'Choice [B]: then applies painted and painted eyeliner to her eye lashes.\\n'\n",
      " 'Choice [C]: looks into the large mirror.\\n'\n",
      " 'Choice [D]: puts red colored eye lashes, then does eye shadow.\\n'\n",
      " 'Which choice is the best answer?')\n",
      "\n",
      "Correct Choice: C\n",
      "Number of Correct Responses: 0/10\n",
      "Response Distribution:\n",
      "A: 10.00%\n",
      "B: 0.00%\n",
      "C: 0.00%\n",
      "D: 90.00%\n"
     ]
    }
   ],
   "source": [
    "test_single_example_multiple_times(6, num_samples=10)"
   ]
  },
  {
   "cell_type": "code",
   "execution_count": 97,
   "metadata": {},
   "outputs": [
    {
     "name": "stdout",
     "output_type": "stream",
     "text": [
      "Activity: Work World\n",
      "Question 8:\n",
      "('Your task is to think carefully through a reasoning problem.\\n'\n",
      " 'Respond only with [A], [B], [C], or [D]\\n'\n",
      " 'Question: [header] How to explain a termination in a job interview [title] '\n",
      " 'Be honest. [step] When your interviewer asks you why you left your last job, '\n",
      " 'the best thing you can do is be honest. Making up stories will only make you '\n",
      " 'seem irresponsible and untrustworthy.\\n'\n",
      " 'Choice [A]: If you can just paint a picture of the situation, you will '\n",
      " 'hardly convince your interviewer. Stick to facts you can use to bridge the '\n",
      " 'gap between your actions and those of the employer.\\n'\n",
      " \"Choice [B]: Don't exaggerate what might have happened or be vague about the \"\n",
      " \"specific circumstances that led to you leaving. [substeps] Don't contact one \"\n",
      " \"of your supervisors to tell them you've terminated your job.\\n\"\n",
      " 'Choice [C]: You will seem like a liar by having an inaccurate job '\n",
      " 'description and a reputation of being a failure. Choose facts that work for '\n",
      " 'you and make your case.\\n'\n",
      " 'Choice [D]: [substeps] Think about what your employer might say if the '\n",
      " \"interviewer calls to follow up on your story. It's very important that you \"\n",
      " \"don't say anything that will be contradicted by your former employer's \"\n",
      " 'story.\\n'\n",
      " 'Which choice is the best answer?')\n",
      "\n",
      "Correct Choice: D\n",
      "Number of Correct Responses: 10/10\n",
      "Response Distribution:\n",
      "A: 0.00%\n",
      "B: 0.00%\n",
      "C: 0.00%\n",
      "D: 100.00%\n"
     ]
    }
   ],
   "source": [
    "test_single_example_multiple_times(7, num_samples=10)"
   ]
  },
  {
   "cell_type": "code",
   "execution_count": 98,
   "metadata": {},
   "outputs": [
    {
     "name": "stdout",
     "output_type": "stream",
     "text": [
      "Activity: Playing saxophone\n",
      "Question 9:\n",
      "('Your task is to think carefully through a reasoning problem.\\n'\n",
      " 'Respond only with [A], [B], [C], or [D]\\n'\n",
      " 'Question: A magazine about saxophones is shown just before a pair of hands '\n",
      " 'are shown playing a saxophone. multiple screens\\n'\n",
      " 'Choice [A]: appear with features to replace the ones shown on the tv '\n",
      " 'screen.\\n'\n",
      " 'Choice [B]: show the two hands playing as they play one more tune on the '\n",
      " 'saxophone.\\n'\n",
      " 'Choice [C]: begin to appear, showing the hands playing various notes on the '\n",
      " 'screen.\\n'\n",
      " 'Choice [D]: flash and a keyboard appears with the word \" connect \" and an '\n",
      " 'arrow going down.\\n'\n",
      " 'Which choice is the best answer?')\n",
      "\n",
      "Correct Choice: C\n",
      "Number of Correct Responses: 0/10\n",
      "Response Distribution:\n",
      "A: 0.00%\n",
      "B: 0.00%\n",
      "C: 0.00%\n",
      "D: 100.00%\n"
     ]
    }
   ],
   "source": [
    "test_single_example_multiple_times(8, num_samples=10)"
   ]
  },
  {
   "cell_type": "code",
   "execution_count": 99,
   "metadata": {},
   "outputs": [
    {
     "name": "stdout",
     "output_type": "stream",
     "text": [
      "Activity: Smoking a cigarette\n",
      "Question 10:\n",
      "('Your task is to think carefully through a reasoning problem.\\n'\n",
      " 'Respond only with [A], [B], [C], or [D]\\n'\n",
      " 'Question: A camera pans up to a man sitting and smoking a cigarette. Another '\n",
      " 'man walks over with a cart and begins digging through trash. the man smoking '\n",
      " 'cigarettes\\n'\n",
      " 'Choice [A]: continues shoveling the debris along the ground.\\n'\n",
      " 'Choice [B]: walks back with the cart while the second man continues to '\n",
      " 'shovel the dirt.\\n'\n",
      " 'Choice [C]: takes the cigarette out of his mouth and finally spits it out.\\n'\n",
      " 'Choice [D]: begins talking to the homeless man about how life sucks and how '\n",
      " 'he can relate to the homeless man.\\n'\n",
      " 'Which choice is the best answer?')\n",
      "\n",
      "Correct Choice: D\n",
      "Number of Correct Responses: 10/10\n",
      "Response Distribution:\n",
      "A: 0.00%\n",
      "B: 0.00%\n",
      "C: 0.00%\n",
      "D: 100.00%\n"
     ]
    }
   ],
   "source": [
    "test_single_example_multiple_times(9, num_samples=10)"
   ]
  },
  {
   "cell_type": "markdown",
   "metadata": {},
   "source": [
    "### Low temperature\n",
    "Most conservative approach, same response every time\n",
    "```\n",
    "temperature = 0.0\n",
    "top_k = 10\n",
    "top_p = 0.5\n",
    "```"
   ]
  },
  {
   "cell_type": "code",
   "execution_count": 100,
   "metadata": {},
   "outputs": [
    {
     "name": "stdout",
     "output_type": "stream",
     "text": [
      "Activity: Camel ride\n",
      "Question 1:\n",
      "('Your task is to think carefully through a reasoning problem.\\n'\n",
      " 'Respond only with [A], [B], [C], or [D]\\n'\n",
      " 'Question: A man is seen holding a small child while looking and smiling to '\n",
      " 'the camera. The two then climb on a camel and ride around while waving to '\n",
      " 'the camera. the two\\n'\n",
      " 'Choice [A]: are shown in several more shots climbing on the camel and '\n",
      " 'walking back.\\n'\n",
      " 'Choice [B]: end up getting off and walking around their ride.\\n'\n",
      " 'Choice [C]: continue riding until the baby pulls a dog down off the camel '\n",
      " 'and the man leaves.\\n'\n",
      " 'Choice [D]: ride back together with the woman leading them in front.\\n'\n",
      " 'Which choice is the best answer?')\n",
      "\n",
      "Correct Choice: D\n",
      "Number of Correct Responses: 10/10\n",
      "Response Distribution:\n",
      "A: 0.00%\n",
      "B: 0.00%\n",
      "C: 0.00%\n",
      "D: 100.00%\n"
     ]
    }
   ],
   "source": [
    "llm = Ollama(model=\"llama3\", temperature=0.0, top_k=10, top_p=0.5)\n",
    "test_single_example_multiple_times(0, num_samples=10)"
   ]
  },
  {
   "cell_type": "code",
   "execution_count": 101,
   "metadata": {},
   "outputs": [
    {
     "name": "stdout",
     "output_type": "stream",
     "text": [
      "Activity: Drum corps\n",
      "Question 2:\n",
      "('Your task is to think carefully through a reasoning problem.\\n'\n",
      " 'Respond only with [A], [B], [C], or [D]\\n'\n",
      " 'Question: Text appears on the screen with a link. People in uniform march '\n",
      " 'down the street. it\\n'\n",
      " 'Choice [A]: then cuts to a news anchor with a laptop.\\n'\n",
      " 'Choice [B]: ends with a lead in footage of the participants walking and '\n",
      " 'cheering.\\n'\n",
      " 'Choice [C]: cuts to the crowd looking on.\\n'\n",
      " 'Choice [D]: screens an ad for the snow camp, with its picture of a cabin.\\n'\n",
      " 'Which choice is the best answer?')\n",
      "\n",
      "Correct Choice: C\n",
      "Number of Correct Responses: 0/10\n",
      "Response Distribution:\n",
      "A: 100.00%\n",
      "B: 0.00%\n",
      "C: 0.00%\n",
      "D: 0.00%\n"
     ]
    }
   ],
   "source": [
    "test_single_example_multiple_times(1, num_samples=10)"
   ]
  },
  {
   "cell_type": "code",
   "execution_count": 102,
   "metadata": {},
   "outputs": [
    {
     "name": "stdout",
     "output_type": "stream",
     "text": [
      "Activity: Slacklining\n",
      "Question 3:\n",
      "('Your task is to think carefully through a reasoning problem.\\n'\n",
      " 'Respond only with [A], [B], [C], or [D]\\n'\n",
      " 'Question: A man stretches a rope between two trees. he\\n'\n",
      " 'Choice [A]: gets on the rope and prepares to start a race.\\n'\n",
      " 'Choice [B]: then balances on the rope as he walks, sits, and bounces on it.\\n'\n",
      " 'Choice [C]: begins walking forward in the path.\\n'\n",
      " 'Choice [D]: puts a shoe on to hold onto the rope.\\n'\n",
      " 'Which choice is the best answer?')\n",
      "\n",
      "Correct Choice: B\n",
      "Number of Correct Responses: 0/10\n",
      "Response Distribution:\n",
      "A: 0.00%\n",
      "B: 0.00%\n",
      "C: 100.00%\n",
      "D: 0.00%\n"
     ]
    }
   ],
   "source": [
    "test_single_example_multiple_times(2, num_samples=10)"
   ]
  },
  {
   "cell_type": "code",
   "execution_count": 103,
   "metadata": {},
   "outputs": [
    {
     "name": "stdout",
     "output_type": "stream",
     "text": [
      "Activity: Computers and Electronics\n",
      "Question 4:\n",
      "('Your task is to think carefully through a reasoning problem.\\n'\n",
      " 'Respond only with [A], [B], [C], or [D]\\n'\n",
      " 'Question: [header] How to change a computer hard drive disk [title] If your '\n",
      " 'hard drive is still working, make sure you make recovery disk or image by '\n",
      " 'using backup or recovery software. [step] If your drive has already failed, '\n",
      " 'hopefully you have your important files saved somewhere as backup. [title] '\n",
      " 'Obtain a new hard drive.\\n'\n",
      " 'Choice [A]: [step] Most small-sized hard drives need an old hard drive to go '\n",
      " 'into recovery. However, it may take a long time to get old hard drives to '\n",
      " 'get back to their original capacity.\\n'\n",
      " 'Choice [B]: [step] Make sure you have the right type of hard drive for your '\n",
      " 'computer. Generally speaking, you want to replace your original drive with a '\n",
      " 'similar drive to make the process easier and simpler.\\n'\n",
      " 'Choice [C]: [step] An external hard drive, such as a wineing or tonneau '\n",
      " '2200. [title] Insert the hard drive into the cd/dvd cd slot.\\n'\n",
      " 'Choice [D]: [step] Many motherboards use specific chf-128 drives, all '\n",
      " 'designed to be small enough to easily safely use. The amount of space '\n",
      " 'requirements depends on how big a drive you have, but a 6 gb (2.4 l) drive '\n",
      " 'should be enough to safely run computers.\\n'\n",
      " 'Which choice is the best answer?')\n",
      "\n",
      "Correct Choice: B\n",
      "Number of Correct Responses: 10/10\n",
      "Response Distribution:\n",
      "A: 0.00%\n",
      "B: 100.00%\n",
      "C: 0.00%\n",
      "D: 0.00%\n"
     ]
    }
   ],
   "source": [
    "test_single_example_multiple_times(3, num_samples=10)"
   ]
  },
  {
   "cell_type": "code",
   "execution_count": 104,
   "metadata": {},
   "outputs": [
    {
     "name": "stdout",
     "output_type": "stream",
     "text": [
      "Activity: Horseback riding\n",
      "Question 5:\n",
      "('Your task is to think carefully through a reasoning problem.\\n'\n",
      " 'Respond only with [A], [B], [C], or [D]\\n'\n",
      " 'Question: . the lady in blue vest and brown jacket\\n'\n",
      " 'Choice [A]: has some more practice punches and then takes one hand grab her '\n",
      " 'elbow and go straight into a crouch and to the side to do the same and then '\n",
      " 'grab her armpit to throw the punch.\\n'\n",
      " 'Choice [B]: is sitting on a brown horse, while a man is standing beside the '\n",
      " 'horse, holding another horse.\\n'\n",
      " 'Choice [C]: holds an orange handled knife and the lady in the green vest '\n",
      " 'holds an orange handled knife with the blue handled handle.\\n'\n",
      " 'Choice [D]: is now standing at the mountain top preparing to get started '\n",
      " 'putting bungee jumps on the ground.\\n'\n",
      " 'Which choice is the best answer?')\n",
      "\n",
      "Correct Choice: B\n",
      "Number of Correct Responses: 0/10\n",
      "Response Distribution:\n",
      "A: 0.00%\n",
      "B: 0.00%\n",
      "C: 0.00%\n",
      "D: 100.00%\n"
     ]
    }
   ],
   "source": [
    "test_single_example_multiple_times(4, num_samples=10)"
   ]
  },
  {
   "cell_type": "code",
   "execution_count": 105,
   "metadata": {},
   "outputs": [
    {
     "name": "stdout",
     "output_type": "stream",
     "text": [
      "Activity: Building sandcastles\n",
      "Question 6:\n",
      "('Your task is to think carefully through a reasoning problem.\\n'\n",
      " 'Respond only with [A], [B], [C], or [D]\\n'\n",
      " 'Question: A group of kids is building a moat filled with water around a sand '\n",
      " 'castle. A little girl with floaters on pour water in the moat. we\\n'\n",
      " 'Choice [A]: see fireworks going off in the background as the kids continue '\n",
      " 'to build.\\n'\n",
      " 'Choice [B]: see an opening title screen.\\n'\n",
      " 'Choice [C]: see children on the other side avoiding the water castle.\\n'\n",
      " 'Choice [D]: see kids across the beach working on their castles in the wet '\n",
      " 'sand.\\n'\n",
      " 'Which choice is the best answer?')\n",
      "\n",
      "Correct Choice: D\n",
      "Number of Correct Responses: 10/10\n",
      "Response Distribution:\n",
      "A: 0.00%\n",
      "B: 0.00%\n",
      "C: 0.00%\n",
      "D: 100.00%\n"
     ]
    }
   ],
   "source": [
    "test_single_example_multiple_times(5, num_samples=10)"
   ]
  },
  {
   "cell_type": "code",
   "execution_count": 106,
   "metadata": {},
   "outputs": [
    {
     "name": "stdout",
     "output_type": "stream",
     "text": [
      "Activity: Putting on makeup\n",
      "Question 7:\n",
      "('Your task is to think carefully through a reasoning problem.\\n'\n",
      " 'Respond only with [A], [B], [C], or [D]\\n'\n",
      " 'Question: Young girl puts black mascara on her eyelashes. she\\n'\n",
      " 'Choice [A]: then touches her eyelids, her eyebrows, and her cheeks.\\n'\n",
      " 'Choice [B]: then applies painted and painted eyeliner to her eye lashes.\\n'\n",
      " 'Choice [C]: looks into the large mirror.\\n'\n",
      " 'Choice [D]: puts red colored eye lashes, then does eye shadow.\\n'\n",
      " 'Which choice is the best answer?')\n",
      "\n",
      "Correct Choice: C\n",
      "Number of Correct Responses: 0/10\n",
      "Response Distribution:\n",
      "A: 0.00%\n",
      "B: 0.00%\n",
      "C: 0.00%\n",
      "D: 100.00%\n"
     ]
    }
   ],
   "source": [
    "test_single_example_multiple_times(6, num_samples=10)"
   ]
  },
  {
   "cell_type": "code",
   "execution_count": 107,
   "metadata": {},
   "outputs": [
    {
     "name": "stdout",
     "output_type": "stream",
     "text": [
      "Activity: Work World\n",
      "Question 8:\n",
      "('Your task is to think carefully through a reasoning problem.\\n'\n",
      " 'Respond only with [A], [B], [C], or [D]\\n'\n",
      " 'Question: [header] How to explain a termination in a job interview [title] '\n",
      " 'Be honest. [step] When your interviewer asks you why you left your last job, '\n",
      " 'the best thing you can do is be honest. Making up stories will only make you '\n",
      " 'seem irresponsible and untrustworthy.\\n'\n",
      " 'Choice [A]: If you can just paint a picture of the situation, you will '\n",
      " 'hardly convince your interviewer. Stick to facts you can use to bridge the '\n",
      " 'gap between your actions and those of the employer.\\n'\n",
      " \"Choice [B]: Don't exaggerate what might have happened or be vague about the \"\n",
      " \"specific circumstances that led to you leaving. [substeps] Don't contact one \"\n",
      " \"of your supervisors to tell them you've terminated your job.\\n\"\n",
      " 'Choice [C]: You will seem like a liar by having an inaccurate job '\n",
      " 'description and a reputation of being a failure. Choose facts that work for '\n",
      " 'you and make your case.\\n'\n",
      " 'Choice [D]: [substeps] Think about what your employer might say if the '\n",
      " \"interviewer calls to follow up on your story. It's very important that you \"\n",
      " \"don't say anything that will be contradicted by your former employer's \"\n",
      " 'story.\\n'\n",
      " 'Which choice is the best answer?')\n",
      "\n",
      "Correct Choice: D\n",
      "Number of Correct Responses: 10/10\n",
      "Response Distribution:\n",
      "A: 0.00%\n",
      "B: 0.00%\n",
      "C: 0.00%\n",
      "D: 100.00%\n"
     ]
    }
   ],
   "source": [
    "test_single_example_multiple_times(7, num_samples=10)"
   ]
  },
  {
   "cell_type": "code",
   "execution_count": 108,
   "metadata": {},
   "outputs": [
    {
     "name": "stdout",
     "output_type": "stream",
     "text": [
      "Activity: Playing saxophone\n",
      "Question 9:\n",
      "('Your task is to think carefully through a reasoning problem.\\n'\n",
      " 'Respond only with [A], [B], [C], or [D]\\n'\n",
      " 'Question: A magazine about saxophones is shown just before a pair of hands '\n",
      " 'are shown playing a saxophone. multiple screens\\n'\n",
      " 'Choice [A]: appear with features to replace the ones shown on the tv '\n",
      " 'screen.\\n'\n",
      " 'Choice [B]: show the two hands playing as they play one more tune on the '\n",
      " 'saxophone.\\n'\n",
      " 'Choice [C]: begin to appear, showing the hands playing various notes on the '\n",
      " 'screen.\\n'\n",
      " 'Choice [D]: flash and a keyboard appears with the word \" connect \" and an '\n",
      " 'arrow going down.\\n'\n",
      " 'Which choice is the best answer?')\n",
      "\n",
      "Correct Choice: C\n",
      "Number of Correct Responses: 0/10\n",
      "Response Distribution:\n",
      "A: 0.00%\n",
      "B: 0.00%\n",
      "C: 0.00%\n",
      "D: 100.00%\n"
     ]
    }
   ],
   "source": [
    "test_single_example_multiple_times(8, num_samples=10)"
   ]
  },
  {
   "cell_type": "code",
   "execution_count": 109,
   "metadata": {},
   "outputs": [
    {
     "name": "stdout",
     "output_type": "stream",
     "text": [
      "Activity: Smoking a cigarette\n",
      "Question 10:\n",
      "('Your task is to think carefully through a reasoning problem.\\n'\n",
      " 'Respond only with [A], [B], [C], or [D]\\n'\n",
      " 'Question: A camera pans up to a man sitting and smoking a cigarette. Another '\n",
      " 'man walks over with a cart and begins digging through trash. the man smoking '\n",
      " 'cigarettes\\n'\n",
      " 'Choice [A]: continues shoveling the debris along the ground.\\n'\n",
      " 'Choice [B]: walks back with the cart while the second man continues to '\n",
      " 'shovel the dirt.\\n'\n",
      " 'Choice [C]: takes the cigarette out of his mouth and finally spits it out.\\n'\n",
      " 'Choice [D]: begins talking to the homeless man about how life sucks and how '\n",
      " 'he can relate to the homeless man.\\n'\n",
      " 'Which choice is the best answer?')\n",
      "\n",
      "Correct Choice: D\n",
      "Number of Correct Responses: 10/10\n",
      "Response Distribution:\n",
      "A: 0.00%\n",
      "B: 0.00%\n",
      "C: 0.00%\n",
      "D: 100.00%\n"
     ]
    }
   ],
   "source": [
    "test_single_example_multiple_times(9, num_samples=10)"
   ]
  },
  {
   "cell_type": "markdown",
   "metadata": {},
   "source": [
    "# Testing Multiple Hyperparameter Profiles"
   ]
  },
  {
   "cell_type": "code",
   "execution_count": 122,
   "metadata": {},
   "outputs": [
    {
     "name": "stdout",
     "output_type": "stream",
     "text": [
      "Activity: Camel ride\n",
      "Question 1:\n",
      "('Your task is to think carefully through a reasoning problem.\\n'\n",
      " 'Respond only with [A], [B], [C], or [D]\\n'\n",
      " 'Question: A man is seen holding a small child while looking and smiling to '\n",
      " 'the camera. The two then climb on a camel and ride around while waving to '\n",
      " 'the camera. the two\\n'\n",
      " 'Choice [A]: are shown in several more shots climbing on the camel and '\n",
      " 'walking back.\\n'\n",
      " 'Choice [B]: end up getting off and walking around their ride.\\n'\n",
      " 'Choice [C]: continue riding until the baby pulls a dog down off the camel '\n",
      " 'and the man leaves.\\n'\n",
      " 'Choice [D]: ride back together with the woman leading them in front.\\n'\n",
      " 'Which choice is the best answer?')\n",
      "\n",
      "Correct Choice: D\n",
      "\n",
      "Profile: most_conservative\n",
      "Number of Correct Responses: 50/50\n",
      "Response Distribution: A: 0% B: 0% C: 0% D: 100% \n",
      "\n",
      "Profile: conservative\n",
      "Number of Correct Responses: 50/50\n",
      "Response Distribution: A: 0% B: 0% C: 0% D: 100% \n",
      "\n",
      "Profile: default\n",
      "Number of Correct Responses: 47/50\n",
      "Response Distribution: A: 0% B: 0% C: 6% D: 94% \n",
      "\n",
      "Profile: diverse\n",
      "Number of Correct Responses: 39/50\n",
      "Response Distribution: A: 0% B: 0% C: 22% D: 78% \n",
      "\n",
      "Profile: most_diverse\n",
      "Number of Correct Responses: 39/50\n",
      "Response Distribution: A: 0% B: 0% C: 22% D: 78% \n"
     ]
    }
   ],
   "source": [
    "# Define hyperparameter profiles\n",
    "hyperparameter_profiles = [\n",
    "    {\"name\": \"most_conservative\", \"temperature\": 0, \"top_k\": 50, \"top_p\": 0.95},\n",
    "    {\"name\": \"conservative\", \"temperature\": 0.8, \"top_k\": 10, \"top_p\": 0.5},\n",
    "    {\"name\": \"default\", \"temperature\": 0.8, \"top_k\": 40, \"top_p\": 0.9},\n",
    "    {\"name\": \"diverse\", \"temperature\": 1.2, \"top_k\": 50, \"top_p\": 0.95},\n",
    "    {\"name\": \"most_diverse\", \"temperature\": 1.5, \"top_k\": 50, \"top_p\": 0.95},\n",
    "]\n",
    "\n",
    "# Function to test a single example multiple times with different hyperparameters\n",
    "def test_single_example_with_hyperparameters(idx, num_samples=10):\n",
    "    example = sampled_df.iloc[idx]\n",
    "    question, choices, label = format_example(example)\n",
    "    prompt = \"Your task is to think carefully through a reasoning problem.\\n\"\n",
    "    prompt += \"Respond only with [A], [B], [C], or [D]\\n\"\n",
    "    prompt += f\"Question: {question}\\n\"\n",
    "    labels = ['A', 'B', 'C', 'D']\n",
    "    for i, choice in enumerate(choices):\n",
    "        prompt += f\"Choice [{labels[i]}]: {choice}\\n\"\n",
    "    prompt += \"Which choice is the best answer?\"\n",
    "\n",
    "    results = []\n",
    "\n",
    "    for profile in hyperparameter_profiles:\n",
    "        llm = Ollama(model=\"llama3\", temperature=profile[\"temperature\"], top_k=profile[\"top_k\"], top_p=profile[\"top_p\"])\n",
    "        responses = []\n",
    "        for _ in range(num_samples):\n",
    "            response = llm.invoke(prompt)\n",
    "            predicted_choice = extract_choice(response)\n",
    "            responses.append(predicted_choice)\n",
    "        \n",
    "        correct_responses = sum(1 for choice in responses if choice == label)\n",
    "        response_distribution = {labels[i]: responses.count(i) for i in range(4)}\n",
    "\n",
    "        results.append({\n",
    "            \"profile\": profile[\"name\"],\n",
    "            \"correct_responses\": correct_responses,\n",
    "            \"total_samples\": num_samples,\n",
    "            \"response_distribution\": response_distribution,\n",
    "        })\n",
    "\n",
    "    clear_output(wait=True)\n",
    "    print(f\"Activity: {example['activity_label']}\")\n",
    "    print(f\"Question {idx + 1}:\")\n",
    "    pprint(prompt)\n",
    "    print(f\"\\nCorrect Choice: {labels[label]}\")\n",
    "    for result in results:\n",
    "        print(f\"\\nProfile: {result['profile']}\")\n",
    "        print(f\"Number of Correct Responses: {result['correct_responses']}/{result['total_samples']}\")\n",
    "        distribution = \"\"\n",
    "        for label, count in result['response_distribution'].items():\n",
    "            percentage = (count / num_samples) * 100\n",
    "            distribution += f\"{label}: {percentage:.0f}% \"\n",
    "        print(\"Response Distribution:\", distribution)\n",
    "\n",
    "        \n",
    "\n",
    "N=50\n",
    "# Test a single example by index with multiple hyperparameter profiles\n",
    "test_single_example_with_hyperparameters(0, num_samples=N)  # Change the index to test different examples"
   ]
  },
  {
   "cell_type": "markdown",
   "metadata": {},
   "source": [
    "We can see that the conservative profiles perform best in selecting the correct choice 'ride back together with the woman leading them in front'. As diversity hyperparameters increase, the second most selected choice is 'continue riding until the baby pulls a dog down off the camel and the man leaves'. The other choices do not get selected as they make less sense in context, as in the case of choice A where they continue climbing on and walking, or choice B where they get off and walk around. This suggests the models are still using their world knowledge to select the most likely responses. Notably, the hyperparameter settings significantly impact the model's output, with lower temperatures and top_k values favoring more predictable and contextually accurate responses, while higher values introduce greater response diversity. This balance between consistency and creativity highlights the model's ability to generate safe, accurate answers in conservative settings and explore wider possibilities in more diverse profiles."
   ]
  },
  {
   "cell_type": "code",
   "execution_count": 123,
   "metadata": {},
   "outputs": [
    {
     "name": "stdout",
     "output_type": "stream",
     "text": [
      "Activity: Drum corps\n",
      "Question 2:\n",
      "('Your task is to think carefully through a reasoning problem.\\n'\n",
      " 'Respond only with [A], [B], [C], or [D]\\n'\n",
      " 'Question: Text appears on the screen with a link. People in uniform march '\n",
      " 'down the street. it\\n'\n",
      " 'Choice [A]: then cuts to a news anchor with a laptop.\\n'\n",
      " 'Choice [B]: ends with a lead in footage of the participants walking and '\n",
      " 'cheering.\\n'\n",
      " 'Choice [C]: cuts to the crowd looking on.\\n'\n",
      " 'Choice [D]: screens an ad for the snow camp, with its picture of a cabin.\\n'\n",
      " 'Which choice is the best answer?')\n",
      "\n",
      "Correct Choice: C\n",
      "\n",
      "Profile: most_conservative\n",
      "Number of Correct Responses: 0/50\n",
      "Response Distribution: A: 100% B: 0% C: 0% D: 0% \n",
      "\n",
      "Profile: conservative\n",
      "Number of Correct Responses: 17/50\n",
      "Response Distribution: A: 66% B: 0% C: 34% D: 0% \n",
      "\n",
      "Profile: default\n",
      "Number of Correct Responses: 8/50\n",
      "Response Distribution: A: 60% B: 14% C: 16% D: 10% \n",
      "\n",
      "Profile: diverse\n",
      "Number of Correct Responses: 12/50\n",
      "Response Distribution: A: 42% B: 16% C: 24% D: 18% \n",
      "\n",
      "Profile: most_diverse\n",
      "Number of Correct Responses: 14/50\n",
      "Response Distribution: A: 42% B: 26% C: 28% D: 4% \n"
     ]
    }
   ],
   "source": [
    "test_single_example_with_hyperparameters(1, num_samples=N)"
   ]
  },
  {
   "cell_type": "markdown",
   "metadata": {},
   "source": [
    "The conservative profiles struggled significantly with this question, failing to select the correct choice 'C' consistently. The most_conservative profile selected 'A' exclusively, suggesting a misalignment with the context of a marching band performance. As diversity in the profiles increased, there was a gradual improvement in selecting 'C', though choices 'A' and 'D' remained prevalent. This scenario highlights how conservative settings may lead to overfitting on less probable, yet internally consistent, narratives, while more diverse settings introduce variety that, in this case, edges closer to the correct context. The interplay of hyperparameters here underscores the balance needed between strict adherence to context and creative exploration to improve accuracy in nuanced scenarios."
   ]
  },
  {
   "cell_type": "code",
   "execution_count": 124,
   "metadata": {},
   "outputs": [
    {
     "name": "stdout",
     "output_type": "stream",
     "text": [
      "Activity: Slacklining\n",
      "Question 3:\n",
      "('Your task is to think carefully through a reasoning problem.\\n'\n",
      " 'Respond only with [A], [B], [C], or [D]\\n'\n",
      " 'Question: A man stretches a rope between two trees. he\\n'\n",
      " 'Choice [A]: gets on the rope and prepares to start a race.\\n'\n",
      " 'Choice [B]: then balances on the rope as he walks, sits, and bounces on it.\\n'\n",
      " 'Choice [C]: begins walking forward in the path.\\n'\n",
      " 'Choice [D]: puts a shoe on to hold onto the rope.\\n'\n",
      " 'Which choice is the best answer?')\n",
      "\n",
      "Correct Choice: B\n",
      "\n",
      "Profile: most_conservative\n",
      "Number of Correct Responses: 0/50\n",
      "Response Distribution: A: 0% B: 0% C: 100% D: 0% \n",
      "\n",
      "Profile: conservative\n",
      "Number of Correct Responses: 21/50\n",
      "Response Distribution: A: 0% B: 42% C: 58% D: 0% \n",
      "\n",
      "Profile: default\n",
      "Number of Correct Responses: 19/50\n",
      "Response Distribution: A: 0% B: 38% C: 42% D: 20% \n",
      "\n",
      "Profile: diverse\n",
      "Number of Correct Responses: 16/50\n",
      "Response Distribution: A: 4% B: 32% C: 36% D: 28% \n",
      "\n",
      "Profile: most_diverse\n",
      "Number of Correct Responses: 15/50\n",
      "Response Distribution: A: 10% B: 30% C: 36% D: 24% \n"
     ]
    }
   ],
   "source": [
    "test_single_example_with_hyperparameters(2, num_samples=N)"
   ]
  },
  {
   "cell_type": "markdown",
   "metadata": {},
   "source": [
    "In this scenario, the most_conservative profile incorrectly selected 'C' exclusively, indicating a rigid interpretation of the context. The conservative profile showed some improvement, but still favored 'C' over 'B'. The default and diverse profiles demonstrated more balanced distributions, with 'B' being selected more frequently as diversity increased. This pattern suggests that while conservative profiles tend to overfit on less probable, linear narratives, more diverse profiles introduce necessary variability that can capture more contextually appropriate actions. This highlights the importance of tuning hyperparameters to balance between context adherence and creative response generation."
   ]
  },
  {
   "cell_type": "code",
   "execution_count": 125,
   "metadata": {},
   "outputs": [
    {
     "name": "stdout",
     "output_type": "stream",
     "text": [
      "Activity: Computers and Electronics\n",
      "Question 4:\n",
      "('Your task is to think carefully through a reasoning problem.\\n'\n",
      " 'Respond only with [A], [B], [C], or [D]\\n'\n",
      " 'Question: [header] How to change a computer hard drive disk [title] If your '\n",
      " 'hard drive is still working, make sure you make recovery disk or image by '\n",
      " 'using backup or recovery software. [step] If your drive has already failed, '\n",
      " 'hopefully you have your important files saved somewhere as backup. [title] '\n",
      " 'Obtain a new hard drive.\\n'\n",
      " 'Choice [A]: [step] Most small-sized hard drives need an old hard drive to go '\n",
      " 'into recovery. However, it may take a long time to get old hard drives to '\n",
      " 'get back to their original capacity.\\n'\n",
      " 'Choice [B]: [step] Make sure you have the right type of hard drive for your '\n",
      " 'computer. Generally speaking, you want to replace your original drive with a '\n",
      " 'similar drive to make the process easier and simpler.\\n'\n",
      " 'Choice [C]: [step] An external hard drive, such as a wineing or tonneau '\n",
      " '2200. [title] Insert the hard drive into the cd/dvd cd slot.\\n'\n",
      " 'Choice [D]: [step] Many motherboards use specific chf-128 drives, all '\n",
      " 'designed to be small enough to easily safely use. The amount of space '\n",
      " 'requirements depends on how big a drive you have, but a 6 gb (2.4 l) drive '\n",
      " 'should be enough to safely run computers.\\n'\n",
      " 'Which choice is the best answer?')\n",
      "\n",
      "Correct Choice: B\n",
      "\n",
      "Profile: most_conservative\n",
      "Number of Correct Responses: 50/50\n",
      "Response Distribution: A: 0% B: 100% C: 0% D: 0% \n",
      "\n",
      "Profile: conservative\n",
      "Number of Correct Responses: 50/50\n",
      "Response Distribution: A: 0% B: 100% C: 0% D: 0% \n",
      "\n",
      "Profile: default\n",
      "Number of Correct Responses: 50/50\n",
      "Response Distribution: A: 0% B: 100% C: 0% D: 0% \n",
      "\n",
      "Profile: diverse\n",
      "Number of Correct Responses: 50/50\n",
      "Response Distribution: A: 0% B: 100% C: 0% D: 0% \n",
      "\n",
      "Profile: most_diverse\n",
      "Number of Correct Responses: 50/50\n",
      "Response Distribution: A: 0% B: 100% C: 0% D: 0% \n"
     ]
    }
   ],
   "source": [
    "test_single_example_with_hyperparameters(3, num_samples=N)"
   ]
  },
  {
   "cell_type": "markdown",
   "metadata": {},
   "source": [
    "In this straightforward technical scenario, all profiles consistently selected the correct choice 'B', demonstrating the model's strong grasp of logical and factual content. The uniformity across all profiles indicates that certain contexts, particularly those grounded in clear procedural knowledge, are handled well by the model regardless of hyperparameter settings. This uniformity highlights how some questions benefit from conservative approaches where predictability and adherence to factual accuracy are paramount. The lack of variation in response distributions also suggests that in well-defined scenarios, the model’s accuracy remains robust across different settings."
   ]
  },
  {
   "cell_type": "code",
   "execution_count": 126,
   "metadata": {},
   "outputs": [
    {
     "name": "stdout",
     "output_type": "stream",
     "text": [
      "Activity: Horseback riding\n",
      "Question 5:\n",
      "('Your task is to think carefully through a reasoning problem.\\n'\n",
      " 'Respond only with [A], [B], [C], or [D]\\n'\n",
      " 'Question: . the lady in blue vest and brown jacket\\n'\n",
      " 'Choice [A]: has some more practice punches and then takes one hand grab her '\n",
      " 'elbow and go straight into a crouch and to the side to do the same and then '\n",
      " 'grab her armpit to throw the punch.\\n'\n",
      " 'Choice [B]: is sitting on a brown horse, while a man is standing beside the '\n",
      " 'horse, holding another horse.\\n'\n",
      " 'Choice [C]: holds an orange handled knife and the lady in the green vest '\n",
      " 'holds an orange handled knife with the blue handled handle.\\n'\n",
      " 'Choice [D]: is now standing at the mountain top preparing to get started '\n",
      " 'putting bungee jumps on the ground.\\n'\n",
      " 'Which choice is the best answer?')\n",
      "\n",
      "Correct Choice: B\n",
      "\n",
      "Profile: most_conservative\n",
      "Number of Correct Responses: 0/50\n",
      "Response Distribution: A: 0% B: 0% C: 0% D: 100% \n",
      "\n",
      "Profile: conservative\n",
      "Number of Correct Responses: 18/50\n",
      "Response Distribution: A: 0% B: 36% C: 0% D: 64% \n",
      "\n",
      "Profile: default\n",
      "Number of Correct Responses: 14/50\n",
      "Response Distribution: A: 16% B: 28% C: 0% D: 56% \n",
      "\n",
      "Profile: diverse\n",
      "Number of Correct Responses: 15/50\n",
      "Response Distribution: A: 20% B: 30% C: 2% D: 48% \n",
      "\n",
      "Profile: most_diverse\n",
      "Number of Correct Responses: 16/50\n",
      "Response Distribution: A: 16% B: 32% C: 12% D: 40% \n"
     ]
    }
   ],
   "source": [
    "test_single_example_with_hyperparameters(4, num_samples=N)"
   ]
  },
  {
   "cell_type": "markdown",
   "metadata": {},
   "source": [
    "In this scenario, the most_conservative profile failed to select the correct choice 'B', instead opting exclusively for 'D', which suggests an inaccurate understanding of the context. The conservative and default profiles showed improvement, with 'B' being selected more frequently. As diversity increased, the distribution of responses became more varied, with choices 'A' and 'D' being selected alongside 'B'. This highlights that while conservative settings may overfit on less plausible narratives, increasing diversity allows the model to explore a broader range of possible actions, thereby increasing the likelihood of selecting contextually appropriate responses. The varied performance underscores the need to balance between strict context adherence and creative exploration to improve accuracy."
   ]
  },
  {
   "cell_type": "code",
   "execution_count": 127,
   "metadata": {},
   "outputs": [
    {
     "name": "stdout",
     "output_type": "stream",
     "text": [
      "Activity: Building sandcastles\n",
      "Question 6:\n",
      "('Your task is to think carefully through a reasoning problem.\\n'\n",
      " 'Respond only with [A], [B], [C], or [D]\\n'\n",
      " 'Question: A group of kids is building a moat filled with water around a sand '\n",
      " 'castle. A little girl with floaters on pour water in the moat. we\\n'\n",
      " 'Choice [A]: see fireworks going off in the background as the kids continue '\n",
      " 'to build.\\n'\n",
      " 'Choice [B]: see an opening title screen.\\n'\n",
      " 'Choice [C]: see children on the other side avoiding the water castle.\\n'\n",
      " 'Choice [D]: see kids across the beach working on their castles in the wet '\n",
      " 'sand.\\n'\n",
      " 'Which choice is the best answer?')\n",
      "\n",
      "Correct Choice: D\n",
      "\n",
      "Profile: most_conservative\n",
      "Number of Correct Responses: 50/50\n",
      "Response Distribution: A: 0% B: 0% C: 0% D: 100% \n",
      "\n",
      "Profile: conservative\n",
      "Number of Correct Responses: 50/50\n",
      "Response Distribution: A: 0% B: 0% C: 0% D: 100% \n",
      "\n",
      "Profile: default\n",
      "Number of Correct Responses: 45/50\n",
      "Response Distribution: A: 0% B: 0% C: 10% D: 90% \n",
      "\n",
      "Profile: diverse\n",
      "Number of Correct Responses: 39/50\n",
      "Response Distribution: A: 0% B: 0% C: 22% D: 78% \n",
      "\n",
      "Profile: most_diverse\n",
      "Number of Correct Responses: 40/50\n",
      "Response Distribution: A: 0% B: 0% C: 20% D: 80% \n"
     ]
    }
   ],
   "source": [
    "test_single_example_with_hyperparameters(5, num_samples=N)"
   ]
  },
  {
   "cell_type": "markdown",
   "metadata": {},
   "source": [
    "In this scenario, all profiles except the diverse and most_diverse consistently selected the correct choice 'D', indicating a strong contextual understanding by the model. The most_conservative and conservative profiles performed flawlessly, suggesting that predictable settings help maintain accuracy. The diverse profiles, while still largely accurate, introduced more variation with choices 'C', indicating a shift towards broader narrative exploration. This demonstrates that while conservative profiles excel in clear, predictable contexts, introducing diversity can still yield accurate responses while allowing for creative variability, underscoring the need for balanced hyperparameter tuning to maintain contextually appropriate responses."
   ]
  },
  {
   "cell_type": "code",
   "execution_count": 128,
   "metadata": {},
   "outputs": [
    {
     "name": "stdout",
     "output_type": "stream",
     "text": [
      "Activity: Putting on makeup\n",
      "Question 7:\n",
      "('Your task is to think carefully through a reasoning problem.\\n'\n",
      " 'Respond only with [A], [B], [C], or [D]\\n'\n",
      " 'Question: Young girl puts black mascara on her eyelashes. she\\n'\n",
      " 'Choice [A]: then touches her eyelids, her eyebrows, and her cheeks.\\n'\n",
      " 'Choice [B]: then applies painted and painted eyeliner to her eye lashes.\\n'\n",
      " 'Choice [C]: looks into the large mirror.\\n'\n",
      " 'Choice [D]: puts red colored eye lashes, then does eye shadow.\\n'\n",
      " 'Which choice is the best answer?')\n",
      "\n",
      "Correct Choice: C\n",
      "\n",
      "Profile: most_conservative\n",
      "Number of Correct Responses: 0/50\n",
      "Response Distribution: A: 0% B: 0% C: 0% D: 100% \n",
      "\n",
      "Profile: conservative\n",
      "Number of Correct Responses: 0/50\n",
      "Response Distribution: A: 38% B: 0% C: 0% D: 62% \n",
      "\n",
      "Profile: default\n",
      "Number of Correct Responses: 9/50\n",
      "Response Distribution: A: 20% B: 14% C: 18% D: 48% \n",
      "\n",
      "Profile: diverse\n",
      "Number of Correct Responses: 5/50\n",
      "Response Distribution: A: 30% B: 18% C: 10% D: 42% \n",
      "\n",
      "Profile: most_diverse\n",
      "Number of Correct Responses: 11/50\n",
      "Response Distribution: A: 22% B: 18% C: 22% D: 38% \n"
     ]
    }
   ],
   "source": [
    "test_single_example_with_hyperparameters(6, num_samples=N)"
   ]
  },
  {
   "cell_type": "markdown",
   "metadata": {},
   "source": [
    "The most_conservative profile failed to select the correct choice 'C', instead opting exclusively for 'D'. The conservative profile also struggled, showing a preference for 'D' and 'A'. The default and diverse profiles demonstrated more balanced distributions, with 'C' being selected more frequently as diversity increased. This pattern suggests that conservative profiles may overfit on less plausible narratives, while more diverse profiles introduce necessary variability that can capture more contextually appropriate actions. This highlights the importance of tuning hyperparameters to balance between context adherence and creative response generation, ensuring that the model can adapt to different scenarios effectively."
   ]
  },
  {
   "cell_type": "code",
   "execution_count": 129,
   "metadata": {},
   "outputs": [
    {
     "name": "stdout",
     "output_type": "stream",
     "text": [
      "Activity: Work World\n",
      "Question 8:\n",
      "('Your task is to think carefully through a reasoning problem.\\n'\n",
      " 'Respond only with [A], [B], [C], or [D]\\n'\n",
      " 'Question: [header] How to explain a termination in a job interview [title] '\n",
      " 'Be honest. [step] When your interviewer asks you why you left your last job, '\n",
      " 'the best thing you can do is be honest. Making up stories will only make you '\n",
      " 'seem irresponsible and untrustworthy.\\n'\n",
      " 'Choice [A]: If you can just paint a picture of the situation, you will '\n",
      " 'hardly convince your interviewer. Stick to facts you can use to bridge the '\n",
      " 'gap between your actions and those of the employer.\\n'\n",
      " \"Choice [B]: Don't exaggerate what might have happened or be vague about the \"\n",
      " \"specific circumstances that led to you leaving. [substeps] Don't contact one \"\n",
      " \"of your supervisors to tell them you've terminated your job.\\n\"\n",
      " 'Choice [C]: You will seem like a liar by having an inaccurate job '\n",
      " 'description and a reputation of being a failure. Choose facts that work for '\n",
      " 'you and make your case.\\n'\n",
      " 'Choice [D]: [substeps] Think about what your employer might say if the '\n",
      " \"interviewer calls to follow up on your story. It's very important that you \"\n",
      " \"don't say anything that will be contradicted by your former employer's \"\n",
      " 'story.\\n'\n",
      " 'Which choice is the best answer?')\n",
      "\n",
      "Correct Choice: D\n",
      "\n",
      "Profile: most_conservative\n",
      "Number of Correct Responses: 50/50\n",
      "Response Distribution: A: 0% B: 0% C: 0% D: 100% \n",
      "\n",
      "Profile: conservative\n",
      "Number of Correct Responses: 50/50\n",
      "Response Distribution: A: 0% B: 0% C: 0% D: 100% \n",
      "\n",
      "Profile: default\n",
      "Number of Correct Responses: 25/50\n",
      "Response Distribution: A: 0% B: 50% C: 0% D: 50% \n",
      "\n",
      "Profile: diverse\n",
      "Number of Correct Responses: 25/50\n",
      "Response Distribution: A: 0% B: 50% C: 0% D: 50% \n",
      "\n",
      "Profile: most_diverse\n",
      "Number of Correct Responses: 21/50\n",
      "Response Distribution: A: 0% B: 58% C: 0% D: 42% \n"
     ]
    }
   ],
   "source": [
    "test_single_example_with_hyperparameters(7, num_samples=N)"
   ]
  },
  {
   "cell_type": "markdown",
   "metadata": {},
   "source": [
    "In this job interview scenario, the conservative profiles performed flawlessly, consistently selecting the correct choice 'D'. The default and diverse profiles showed more variability, with choices 'B' and 'D' being selected equally often. This indicates that while conservative settings maintain a strong adherence to factual accuracy and context, introducing diversity can lead to broader narrative exploration. However, the presence of a clear, factual context allows conservative profiles to excel, highlighting their strength in scenarios where predictability and adherence to logical consistency are crucial. This consistency underscores the importance of balanced hyperparameter tuning to maintain accuracy while allowing for creative variability when needed."
   ]
  },
  {
   "cell_type": "code",
   "execution_count": 130,
   "metadata": {},
   "outputs": [
    {
     "name": "stdout",
     "output_type": "stream",
     "text": [
      "Activity: Playing saxophone\n",
      "Question 9:\n",
      "('Your task is to think carefully through a reasoning problem.\\n'\n",
      " 'Respond only with [A], [B], [C], or [D]\\n'\n",
      " 'Question: A magazine about saxophones is shown just before a pair of hands '\n",
      " 'are shown playing a saxophone. multiple screens\\n'\n",
      " 'Choice [A]: appear with features to replace the ones shown on the tv '\n",
      " 'screen.\\n'\n",
      " 'Choice [B]: show the two hands playing as they play one more tune on the '\n",
      " 'saxophone.\\n'\n",
      " 'Choice [C]: begin to appear, showing the hands playing various notes on the '\n",
      " 'screen.\\n'\n",
      " 'Choice [D]: flash and a keyboard appears with the word \" connect \" and an '\n",
      " 'arrow going down.\\n'\n",
      " 'Which choice is the best answer?')\n",
      "\n",
      "Correct Choice: C\n",
      "\n",
      "Profile: most_conservative\n",
      "Number of Correct Responses: 0/50\n",
      "Response Distribution: A: 0% B: 0% C: 0% D: 100% \n",
      "\n",
      "Profile: conservative\n",
      "Number of Correct Responses: 0/50\n",
      "Response Distribution: A: 0% B: 0% C: 0% D: 100% \n",
      "\n",
      "Profile: default\n",
      "Number of Correct Responses: 8/50\n",
      "Response Distribution: A: 0% B: 0% C: 16% D: 84% \n",
      "\n",
      "Profile: diverse\n",
      "Number of Correct Responses: 12/50\n",
      "Response Distribution: A: 0% B: 0% C: 24% D: 76% \n",
      "\n",
      "Profile: most_diverse\n",
      "Number of Correct Responses: 7/50\n",
      "Response Distribution: A: 0% B: 0% C: 14% D: 86% \n"
     ]
    }
   ],
   "source": [
    "test_single_example_with_hyperparameters(8, num_samples=N)"
   ]
  },
  {
   "cell_type": "markdown",
   "metadata": {},
   "source": [
    "In this scenario, the conservative profiles failed to select the correct choice 'C', opting exclusively for 'D'. The default and diverse profiles showed some improvement, with 'C' being selected more frequently. This pattern suggests that conservative profiles may overfit on less plausible narratives, while more diverse profiles introduce necessary variability that can capture more contextually appropriate actions. This highlights the importance of tuning hyperparameters to balance between context adherence and creative response generation, ensuring that the model can adapt to different scenarios effectively. The varied performance underscores the need for balanced hyperparameter settings to maintain accuracy while allowing for creative exploration in more nuanced contexts."
   ]
  },
  {
   "cell_type": "code",
   "execution_count": 131,
   "metadata": {},
   "outputs": [
    {
     "name": "stdout",
     "output_type": "stream",
     "text": [
      "Activity: Smoking a cigarette\n",
      "Question 10:\n",
      "('Your task is to think carefully through a reasoning problem.\\n'\n",
      " 'Respond only with [A], [B], [C], or [D]\\n'\n",
      " 'Question: A camera pans up to a man sitting and smoking a cigarette. Another '\n",
      " 'man walks over with a cart and begins digging through trash. the man smoking '\n",
      " 'cigarettes\\n'\n",
      " 'Choice [A]: continues shoveling the debris along the ground.\\n'\n",
      " 'Choice [B]: walks back with the cart while the second man continues to '\n",
      " 'shovel the dirt.\\n'\n",
      " 'Choice [C]: takes the cigarette out of his mouth and finally spits it out.\\n'\n",
      " 'Choice [D]: begins talking to the homeless man about how life sucks and how '\n",
      " 'he can relate to the homeless man.\\n'\n",
      " 'Which choice is the best answer?')\n",
      "\n",
      "Correct Choice: D\n",
      "\n",
      "Profile: most_conservative\n",
      "Number of Correct Responses: 50/50\n",
      "Response Distribution: A: 0% B: 0% C: 0% D: 100% \n",
      "\n",
      "Profile: conservative\n",
      "Number of Correct Responses: 50/50\n",
      "Response Distribution: A: 0% B: 0% C: 0% D: 100% \n",
      "\n",
      "Profile: default\n",
      "Number of Correct Responses: 35/50\n",
      "Response Distribution: A: 0% B: 10% C: 20% D: 70% \n",
      "\n",
      "Profile: diverse\n",
      "Number of Correct Responses: 22/50\n",
      "Response Distribution: A: 12% B: 22% C: 22% D: 44% \n",
      "\n",
      "Profile: most_diverse\n",
      "Number of Correct Responses: 20/50\n",
      "Response Distribution: A: 12% B: 28% C: 20% D: 40% \n"
     ]
    }
   ],
   "source": [
    "test_single_example_with_hyperparameters(9, num_samples=N)"
   ]
  },
  {
   "cell_type": "markdown",
   "metadata": {},
   "source": [
    "In this scenario, the conservative profiles again showed their strength, correctly identifying choice 'D' as the most appropriate response, reflecting a nuanced understanding of the social dynamics at play. The default profile showed some variability, introducing 'C' and 'B' as secondary choices, which though plausible, lack the deeper narrative connection present in 'D'. The diverse profiles exhibited even more variation, with choices 'A' and 'B' emerging, indicating a shift towards introducing new, but less contextually fitting, elements into the story. This highlights the balance the model strikes between creativity and accuracy—while conservative settings yield highly probable and contextually accurate answers, more diverse settings explore alternative narratives that, while imaginative, may stray from the expected storyline. These patterns underscore the impact of hyperparameter settings on model behavior, with lower temperatures and top_k values enhancing consistency and contextual accuracy, and higher values promoting creative, yet less accurate, responses."
   ]
  },
  {
   "cell_type": "code",
   "execution_count": null,
   "metadata": {},
   "outputs": [],
   "source": []
  },
  {
   "cell_type": "code",
   "execution_count": null,
   "metadata": {},
   "outputs": [],
   "source": []
  }
 ],
 "metadata": {
  "kernelspec": {
   "display_name": "cse251u",
   "language": "python",
   "name": "python3"
  },
  "language_info": {
   "codemirror_mode": {
    "name": "ipython",
    "version": 3
   },
   "file_extension": ".py",
   "mimetype": "text/x-python",
   "name": "python",
   "nbconvert_exporter": "python",
   "pygments_lexer": "ipython3",
   "version": "3.11.7"
  }
 },
 "nbformat": 4,
 "nbformat_minor": 2
}
