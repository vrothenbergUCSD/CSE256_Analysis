{
 "cells": [
  {
   "cell_type": "code",
   "execution_count": 11,
   "metadata": {},
   "outputs": [
    {
     "name": "stdout",
     "output_type": "stream",
     "text": [
      "('A clever question! As a scientist, I must approach this problem with logical '\n",
      " 'rigor.\\n'\n",
      " '\\n'\n",
      " \"Let's start by identifying the information we have:\\n\"\n",
      " '\\n'\n",
      " '* Alice has 3 brothers.\\n'\n",
      " '* She also has 2 sisters (excluding herself).\\n'\n",
      " '\\n'\n",
      " \"Now, let's consider the brothers' perspective: they are siblings of Alice. \"\n",
      " 'Since Alice has 3 brothers, we can say that each brother has exactly one '\n",
      " \"sister... which is Alice! However, this doesn't tell us how many sisters her \"\n",
      " 'brothers have in total.\\n'\n",
      " '\\n'\n",
      " 'To find that out, we need to think about the relationships between the '\n",
      " 'family members:\\n'\n",
      " '\\n'\n",
      " \"* Each of Alice's brothers has only one sister, which is Alice.\\n\"\n",
      " '* Since there are 3 brothers, each brother has exactly one sister, which is '\n",
      " 'Alice. Therefore, all together, they have a total of 1 (one) sister... and '\n",
      " \"that's just Alice again!\\n\"\n",
      " '\\n'\n",
      " 'So, to answer the question: her brothers do not have any sisters other than '\n",
      " 'Alice herself.\\n'\n",
      " '\\n'\n",
      " \"As a scientist, I'm confident in my conclusion because it's based on logical \"\n",
      " 'deductions from the given information.')\n"
     ]
    }
   ],
   "source": [
    "import os\n",
    "from langchain_community.llms import Ollama\n",
    "from IPython.display import clear_output\n",
    "from pprint import pprint\n",
    "import json\n",
    "\n",
    "llm = Ollama(model=\"llama3\", system=\"You are a highly intelligent, thoughtful, and serious scientist. Be as helpful and accurate as possible.\")\n",
    "prompt = \"\"\"Alice has 3 brothers, she also has 2 sisters not including herself. How many sisters does her brother have?\n",
    "You are a highly intelligent and precise scientist. Think carefully through your response.\"\"\"\n",
    "response = llm.invoke(prompt)\n",
    "pprint(response)"
   ]
  },
  {
   "cell_type": "code",
   "execution_count": 12,
   "metadata": {},
   "outputs": [
    {
     "name": "stdout",
     "output_type": "stream",
     "text": [
      "('A classic lateral thinking puzzle!\\n'\n",
      " '\\n'\n",
      " \"Let's break it down step by step:\\n\"\n",
      " '\\n'\n",
      " '1. Alice has 3 brothers.\\n'\n",
      " '2. She also has 2 sisters.\\n'\n",
      " '\\n'\n",
      " \"Now, let's consider the perspective of one of Alice's brothers (let's call \"\n",
      " 'him Brother X). From his point of view:\\n'\n",
      " '\\n'\n",
      " '* He has only one sister: Alice herself!\\n'\n",
      " '* He does not have any other siblings, since he is a brother and not a '\n",
      " 'sister.\\n'\n",
      " '* The 2 sisters mentioned in the problem are actually the sisters of Alice, '\n",
      " 'not her brothers.\\n'\n",
      " '\\n'\n",
      " 'Therefore, the answer to \"How many sisters does one of her brothers have?\" '\n",
      " 'is simply... 0!')\n"
     ]
    }
   ],
   "source": [
    "prompt = \"\"\"Alice has 3 brothers, she also has 2 sisters. How many sisters does one of her brothers have?\n",
    "You are a highly intelligent and precise scientist. Think carefully through your response.\"\"\"\n",
    "response = llm.invoke(prompt)\n",
    "pprint(response)"
   ]
  },
  {
   "cell_type": "code",
   "execution_count": 13,
   "metadata": {},
   "outputs": [
    {
     "name": "stdout",
     "output_type": "stream",
     "text": [
      "('You are a highly intelligent and precise scientist posed with a reasoning '\n",
      " 'task:\\n',\n",
      " 'Alice has 3 brothers (Harry, Barry, and Jerry), she also has 2 sisters '\n",
      " '(Cindy and Mindy). ',\n",
      " 'How many brothers does Cindy have?\\n',\n",
      " 'Think carefully through your response, thinking step by step.')\n",
      "('A classic lateral thinking puzzle!\\n'\n",
      " '\\n'\n",
      " \"Let's break it down step by step:\\n\"\n",
      " '\\n'\n",
      " '1. Alice has 3 brothers: Harry, Barry, and Jerry.\\n'\n",
      " \"2. We're asked about Cindy's brothers, not Alice's.\\n\"\n",
      " '\\n'\n",
      " \"Now, let's consider the information we have:\\n\"\n",
      " '\\n'\n",
      " '* Alice has 2 sisters: Cindy and Mindy.\\n'\n",
      " '* There are only 3 brothers in total (Harry, Barry, and Jerry).\\n'\n",
      " '\\n'\n",
      " \"This means that Cindy is one of Alice's sisters. Since there are only 2 \"\n",
      " 'sisters (Cindy and Mindy), Cindy must be the other sister.\\n'\n",
      " '\\n'\n",
      " 'Now, we can conclude:\\n'\n",
      " '\\n'\n",
      " \"Cindy has... zero brothers! She's a sister, not a brother!\\n\"\n",
      " '\\n'\n",
      " 'So, the answer is: Cindy has 0 brothers.')\n"
     ]
    }
   ],
   "source": [
    "prompt = (\"You are a highly intelligent and precise scientist posed with a reasoning task:\\n\",\n",
    "          \"Alice has 3 brothers (Harry, Barry, and Jerry), she also has 2 sisters (Cindy and Mindy). \",\n",
    "          \"How many brothers does Cindy have?\\n\",\n",
    "          \"Think carefully through your response, thinking step by step.\")\n",
    "# pprint(prompt)\n",
    "response = llm.invoke(prompt)\n",
    "pprint(response)"
   ]
  },
  {
   "cell_type": "code",
   "execution_count": 14,
   "metadata": {},
   "outputs": [
    {
     "name": "stdout",
     "output_type": "stream",
     "text": [
      "('A clever question!\\n'\n",
      " '\\n'\n",
      " \"Let's break it down step by step:\\n\"\n",
      " '\\n'\n",
      " '1. We know Alice has 3 brothers (Harry, Barry, and Jerry).\\n'\n",
      " '2. We also know Alice has 2 sisters (Cindy and Mindy).\\n'\n",
      " '3. The question asks how many sisters Cindy has.\\n'\n",
      " '\\n'\n",
      " \"Now, let's think... Cindy is one of those two sisters of Alice. Therefore, \"\n",
      " 'she does not have any sisters among the siblings listed, because they are '\n",
      " 'all brothers or her own sister (Mindy).\\n'\n",
      " '\\n'\n",
      " 'So, the answer is: 0 sisters.')\n"
     ]
    }
   ],
   "source": [
    "prompt = (\"You are a highly intelligent and precise scientist posed with a reasoning task:\\n\",\n",
    "          \"Alice has 3 brothers (Harry, Barry, and Jerry), she also has 2 sisters (Cindy and Mindy). \",\n",
    "          \"How many sisters does Cindy have?\\n\",\n",
    "          \"Think carefully through your response, thinking step by step.\")\n",
    "# pprint(prompt)\n",
    "response = llm.invoke(prompt)\n",
    "pprint(response)"
   ]
  },
  {
   "cell_type": "code",
   "execution_count": 16,
   "metadata": {},
   "outputs": [
    {
     "name": "stdout",
     "output_type": "stream",
     "text": [
      "('A classic lateral thinking puzzle!\\n'\n",
      " '\\n'\n",
      " \"Let's break it down step by step:\\n\"\n",
      " '\\n'\n",
      " '1. We know Alice has 3 brothers: Harry, Barry, and Jerry.\\n'\n",
      " '2. We know Alice also has 2 sisters: Cindy and Mindy.\\n'\n",
      " '\\n'\n",
      " \"Now, the question asks about Harry's sisters. To answer this, we need to \"\n",
      " 'consider the relationships between Alice, her brothers, and her sisters.\\n'\n",
      " '\\n'\n",
      " 'Since Alice is a sister herself (she has two sisters), it means that Harry, '\n",
      " 'Barry, Jerry, Cindy, and Mindy are all siblings of Alice.\\n'\n",
      " '\\n'\n",
      " \"Given this context, Harry's sisters are simply the remaining two individuals \"\n",
      " 'who are also siblings of Alice. These would be Cindy and Mindy, since we '\n",
      " \"already know about Harry's three brothers (Harry himself, Barry, and \"\n",
      " 'Jerry).\\n'\n",
      " '\\n'\n",
      " 'Therefore, Harry has 2 sisters: Cindy and Mindy.')\n"
     ]
    }
   ],
   "source": [
    "prompt = (\"You are a highly intelligent and precise scientist posed with a reasoning task:\\n\",\n",
    "          \"Alice has 3 brothers (Harry, Barry, and Jerry), Alice also has 2 sisters (Cindy and Mindy). \",\n",
    "          \"How many sisters does Harry have?\\n\",\n",
    "          \"Think carefully through your response, thinking step by step.\")\n",
    "# pprint(prompt)\n",
    "response = llm.invoke(prompt)\n",
    "pprint(response)"
   ]
  },
  {
   "cell_type": "code",
   "execution_count": null,
   "metadata": {},
   "outputs": [],
   "source": []
  }
 ],
 "metadata": {
  "kernelspec": {
   "display_name": "cse251u",
   "language": "python",
   "name": "python3"
  },
  "language_info": {
   "codemirror_mode": {
    "name": "ipython",
    "version": 3
   },
   "file_extension": ".py",
   "mimetype": "text/x-python",
   "name": "python",
   "nbconvert_exporter": "python",
   "pygments_lexer": "ipython3",
   "version": "3.11.7"
  }
 },
 "nbformat": 4,
 "nbformat_minor": 2
}
